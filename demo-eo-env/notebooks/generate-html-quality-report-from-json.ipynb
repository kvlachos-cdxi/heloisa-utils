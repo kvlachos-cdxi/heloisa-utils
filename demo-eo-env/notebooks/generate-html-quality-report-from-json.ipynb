{
 "cells": [
  {
   "cell_type": "code",
   "execution_count": 8,
   "id": "d470b65e-6137-4938-a864-0f840fd89fe9",
   "metadata": {},
   "outputs": [],
   "source": [
    "import json\n",
    "from jinja2 import Environment, FileSystemLoader"
   ]
  },
  {
   "cell_type": "code",
   "execution_count": 15,
   "id": "9cd75891-194c-4bfe-bdac-59d136f5b6a5",
   "metadata": {},
   "outputs": [],
   "source": [
    "def render_html_from_json(json_path, template_path, output_path):\n",
    "    # Load JSON\n",
    "    with open(json_path, 'r') as f:\n",
    "        data = json.load(f)\n",
    "\n",
    "    # Load template\n",
    "    env = Environment(loader=FileSystemLoader(template_path))\n",
    "    template = env.get_template(\"heloisa-qa_html-template.html.j2\")\n",
    "\n",
    "    # Render HTML\n",
    "    html_output = template.render(**data)\n",
    "\n",
    "    # Save\n",
    "    with open(output_path, 'w') as f:\n",
    "        f.write(html_output)\n",
    "\n",
    "    print(f\"✅ HTML QA report saved to: {output_path}\")"
   ]
  },
  {
   "cell_type": "code",
   "execution_count": 16,
   "id": "fefa710b-0452-4fde-8583-2b2bb07df054",
   "metadata": {},
   "outputs": [
    {
     "name": "stdout",
     "output_type": "stream",
     "text": [
      "✅ HTML QA report saved to: /home/data/heloisa-qa.html\n"
     ]
    }
   ],
   "source": [
    "# Example usage\n",
    "render_html_from_json(\n",
    "    json_path=\"/home/data/heloisa-qa.json\",\n",
    "    template_path=\"/home/data/\",\n",
    "    output_path=\"/home/data/heloisa-qa.html\"\n",
    ")"
   ]
  },
  {
   "cell_type": "code",
   "execution_count": null,
   "id": "e4269b1f-1deb-4868-a0f4-a7e5638f6b29",
   "metadata": {},
   "outputs": [],
   "source": []
  }
 ],
 "metadata": {
  "kernelspec": {
   "display_name": "Python 3 (ipykernel)",
   "language": "python",
   "name": "python3"
  },
  "language_info": {
   "codemirror_mode": {
    "name": "ipython",
    "version": 3
   },
   "file_extension": ".py",
   "mimetype": "text/x-python",
   "name": "python",
   "nbconvert_exporter": "python",
   "pygments_lexer": "ipython3",
   "version": "3.12.3"
  }
 },
 "nbformat": 4,
 "nbformat_minor": 5
}
