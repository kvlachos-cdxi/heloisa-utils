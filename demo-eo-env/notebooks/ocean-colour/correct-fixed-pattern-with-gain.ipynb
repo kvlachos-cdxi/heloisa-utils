{
 "cells": [
  {
   "cell_type": "code",
   "execution_count": 1,
   "id": "215e1dc0-be47-47f8-be40-498c9f23b6f3",
   "metadata": {
    "tags": []
   },
   "outputs": [],
   "source": [
    "import rasterio as rio\n",
    "import numpy as np"
   ]
  },
  {
   "cell_type": "code",
   "execution_count": 2,
   "id": "7a5b9a6e-5a8a-4eb8-ba05-0d78e8fd101e",
   "metadata": {
    "tags": []
   },
   "outputs": [],
   "source": [
    "# Read\n",
    "with rio.open('/home/data/ocean-colour/fixed-pattern-noise/detector-footprint-B2_10m_4326.tif', 'r') as src:\n",
    "    d_footprint = src.read(1)\n",
    "    no_data_foot = src.nodata\n",
    "    \n",
    "with rio.open('/home/data/ocean-colour/fixed-pattern-noise/chla_linear_60m_4326_landsea_clean.tif', 'r') as src:\n",
    "    chla = src.read(1)\n",
    "    no_data_chla = src.nodata\n",
    "    profile = src.profile"
   ]
  },
  {
   "cell_type": "code",
   "execution_count": 3,
   "id": "77de5e77-ecd4-4cec-af66-7ba277f6e2fe",
   "metadata": {
    "tags": []
   },
   "outputs": [
    {
     "data": {
      "text/plain": [
       "array([3, 4, 5, 6, 7, 8], dtype=uint8)"
      ]
     },
     "execution_count": 3,
     "metadata": {},
     "output_type": "execute_result"
    }
   ],
   "source": [
    "N_footprints = np.unique(d_footprint)\n",
    "N_footprints = N_footprints[N_footprints != no_data_foot]\n",
    "N_footprints"
   ]
  },
  {
   "cell_type": "code",
   "execution_count": 4,
   "id": "0a25b772-97f6-4662-91c8-b07ff4d69762",
   "metadata": {
    "tags": []
   },
   "outputs": [],
   "source": [
    "valid_chla = list()\n",
    "\n",
    "for n in N_footprints.tolist():\n",
    "    footprint_mask = d_footprint == n # get footprint mask for each footprint\n",
    "    nodata_mask = (d_footprint != no_data_foot) & (chla != no_data_chla)\n",
    "\n",
    "    valid_data_mask = footprint_mask & nodata_mask\n",
    "    \n",
    "    # Get valid values\n",
    "    valid_chla_foot = chla[valid_data_mask]\n",
    "    \n",
    "    valid_chla.append((np.mean(valid_chla_foot), np.median(valid_chla_foot), np.std(valid_chla_foot)))"
   ]
  },
  {
   "cell_type": "code",
   "execution_count": 5,
   "id": "cbb1c434-b4d3-424c-91c6-738471ba1e7c",
   "metadata": {
    "tags": []
   },
   "outputs": [
    {
     "data": {
      "text/plain": [
       "array([[0.68480736, 0.66438526, 0.14964287],\n",
       "       [0.3880749 , 0.35794708, 0.20541762],\n",
       "       [0.25357443, 0.22867428, 0.13483933],\n",
       "       [0.25415975, 0.2391891 , 0.10029809],\n",
       "       [0.45058843, 0.425434  , 0.15376009],\n",
       "       [0.27268258, 0.2632374 , 0.09897326]], dtype=float32)"
      ]
     },
     "execution_count": 5,
     "metadata": {},
     "output_type": "execute_result"
    }
   ],
   "source": [
    "chla_stats = np.stack(valid_chla)\n",
    "chla_stats"
   ]
  },
  {
   "cell_type": "code",
   "execution_count": 7,
   "id": "e95f991e-5614-4555-8cf2-881ff97bb7a4",
   "metadata": {
    "tags": []
   },
   "outputs": [
    {
     "data": {
      "text/plain": [
       "array([0.73013234, 1.288411  , 1.9718076 , 1.9672667 , 1.10966   ,\n",
       "       1.8336338 ], dtype=float32)"
      ]
     },
     "execution_count": 7,
     "metadata": {},
     "output_type": "execute_result"
    }
   ],
   "source": [
    "# set reference chla\n",
    "detector_n = 2\n",
    "ref_chla = chla_stats[detector_n, 0]\n",
    "ref_chla = 0.5\n",
    "\n",
    "# Compute gain factors per detector footprint\n",
    "gain_factors =  ref_chla / chla_stats[:, 0]\n",
    "gain_factors"
   ]
  },
  {
   "cell_type": "code",
   "execution_count": 8,
   "id": "a5b6a0d3-f68a-4c90-a687-cce70676f876",
   "metadata": {
    "tags": []
   },
   "outputs": [],
   "source": [
    "for i, n in enumerate(N_footprints.tolist()):\n",
    "\n",
    "    footprint_mask = d_footprint == n # get footprint mask for each footprint\n",
    "    nodata_chla_mask = chla == no_data_chla\n",
    "    \n",
    "    # valid_data_mask = footprint_mask & nodata_mask\n",
    "    chla[footprint_mask] = chla[footprint_mask] * gain_factors[i]\n",
    "    \n",
    "    # Reset No data values\n",
    "    chla[nodata_chla_mask] = no_data_chla\n",
    "\n",
    "    # valid_chla.append((np.mean(valid_chla_foot), np.median(valid_chla_foot), np.std(valid_chla_foot)))"
   ]
  },
  {
   "cell_type": "code",
   "execution_count": 9,
   "id": "af22c8f4-7fdd-45f9-8753-1e7146c9224c",
   "metadata": {
    "tags": []
   },
   "outputs": [],
   "source": [
    "# Save output\n",
    "with rio.open('/home/data/ocean-colour/fixed-pattern-noise/chla_linear_60m_4326_landsea_clean_fixpatternanchor.tif', 'w', **profile) as dst:\n",
    "    dst.write(chla, 1)"
   ]
  },
  {
   "cell_type": "code",
   "execution_count": null,
   "id": "18629259-801f-4c7c-8b89-31c4e30e32c5",
   "metadata": {},
   "outputs": [],
   "source": []
  }
 ],
 "metadata": {
  "kernelspec": {
   "display_name": "Python 3 (ipykernel)",
   "language": "python",
   "name": "python3"
  },
  "language_info": {
   "codemirror_mode": {
    "name": "ipython",
    "version": 3
   },
   "file_extension": ".py",
   "mimetype": "text/x-python",
   "name": "python",
   "nbconvert_exporter": "python",
   "pygments_lexer": "ipython3",
   "version": "3.12.3"
  }
 },
 "nbformat": 4,
 "nbformat_minor": 5
}
