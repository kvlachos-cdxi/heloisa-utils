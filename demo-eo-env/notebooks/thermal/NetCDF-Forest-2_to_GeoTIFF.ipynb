{
 "cells": [
  {
   "cell_type": "code",
   "execution_count": 1,
   "id": "9e89b1db-ad1e-418a-99f8-8ac95c803a7d",
   "metadata": {
    "tags": []
   },
   "outputs": [],
   "source": [
    "def timing_decorator(func):\n",
    "    def wrapper(*args, **kwargs):\n",
    "        start_time = time.time()  # Record start time\n",
    "        result = func(*args, **kwargs)\n",
    "        end_time = time.time()    # Record end time\n",
    "        print(f\"Function '{func.__name__}' executed in {end_time - start_time:.4f} seconds\")\n",
    "        return result\n",
    "    return wrapper"
   ]
  },
  {
   "cell_type": "code",
   "execution_count": 2,
   "id": "eefff380-b035-431d-9ee1-a9b12374157f",
   "metadata": {
    "tags": []
   },
   "outputs": [],
   "source": [
    "import numpy as np\n",
    "import xarray as xr\n",
    "import rasterio\n",
    "from rasterio.transform import from_origin\n",
    "from pyproj import Transformer\n",
    "from scipy.interpolate import griddata\n",
    "from pathlib import Path\n",
    "import time\n",
    "\n",
    "# --- Open the NetCDF file ---\n",
    "nc_path = Path(\"/home/data/sst/F002_L1__IR__L2L1M0__2025-02-04T235830.003911Z_2025-04-10T200213.364384Z_c395dd14.nc4\")"
   ]
  },
  {
   "cell_type": "markdown",
   "id": "a10d437b-7d85-40fc-950f-abba4a4847e3",
   "metadata": {},
   "source": [
    "# Method 1 (scipy)"
   ]
  },
  {
   "cell_type": "code",
   "execution_count": 14,
   "id": "a0e31663-5cfc-4bf3-8660-9ebad09fd3ef",
   "metadata": {},
   "outputs": [],
   "source": [
    "@timing_decorator\n",
    "def nc2gtiff_scipy(inp_nc: str = \"/home/data/sst/F002_L1__IR__L2L1M0__2025-02-04T235830.003911Z_2025-04-10T200213.364384Z_c395dd14.nc4\",\n",
    "                   out_tiff: str = \"/home/data/sst/bt_L2_epsg2100_scipy.tif\",\n",
    "                   res: int = 150):\n",
    "    \n",
    "    # --- Open the NetCDF file ---\n",
    "    nc_path = Path(inp_nc)\n",
    "    \n",
    "    ds = xr.open_dataset(nc_path)\n",
    "\n",
    "    # --- Example: select brightness temperature variable ---\n",
    "    # Replace \"BT\" with the actual name in your file\n",
    "    bt = ds[\"brightness_temperature\"].isel(bands=0).values\n",
    "    lat = ds['lat'].values\n",
    "    lon = ds['lon'].values\n",
    "    flags = ds['flags'].values\n",
    "\n",
    "    # Convert Kelvin to Celsius (optional)\n",
    "    bt = bt - 273.15\n",
    "\n",
    "    # Flatten arrays\n",
    "    lat_flat = lat.flatten()\n",
    "    lon_flat = lon.flatten()\n",
    "    bt_flat = bt.flatten()\n",
    "\n",
    "    # Remove NaN or fill values\n",
    "    mask = ~np.isnan(bt_flat)\n",
    "    lat_flat = lat_flat[mask]\n",
    "    lon_flat = lon_flat[mask]\n",
    "    bt_flat = bt_flat[mask]\n",
    "\n",
    "    # --- Transform coordinates to EPSG:2100 ---\n",
    "    transformer = Transformer.from_crs(\"EPSG:4326\", \"EPSG:2100\", always_xy=True)\n",
    "    x_proj, y_proj = transformer.transform(lon_flat, lat_flat)\n",
    "\n",
    "    # --- Define regular target grid in EPSG:2100 ---\n",
    "    # Choose resolution in meters (e.g., 1000 m)\n",
    "\n",
    "    xmin, xmax = np.min(x_proj), np.max(x_proj)\n",
    "    ymin, ymax = np.min(y_proj), np.max(y_proj)\n",
    "\n",
    "    # Compute grid\n",
    "    nx = int((xmax - xmin) / res)\n",
    "    ny = int((ymax - ymin) / res)\n",
    "\n",
    "    grid_x, grid_y = np.meshgrid(\n",
    "        np.linspace(xmin, xmax, nx),\n",
    "        np.linspace(ymax, ymin, ny)  # note: y goes from top to bottom\n",
    "    )\n",
    "\n",
    "    # --- Interpolate onto the grid ---\n",
    "    bt_grid = griddata(\n",
    "        (x_proj, y_proj),\n",
    "        bt_flat,\n",
    "        (grid_x, grid_y),\n",
    "        method=\"linear\"\n",
    "    )\n",
    "\n",
    "    # Fill NaNs with nodata\n",
    "    nodata = -9999\n",
    "    bt_grid = np.nan_to_num(bt_grid, nan=nodata)\n",
    "\n",
    "    # --- Define raster transform ---\n",
    "    transform = from_origin(xmin, ymax, res, res)\n",
    "\n",
    "    # --- Save to GeoTIFF ---\n",
    "    with rasterio.open(\n",
    "        out_tiff,\n",
    "        \"w\",\n",
    "        driver=\"GTiff\",\n",
    "        height=bt_grid.shape[0],\n",
    "        width=bt_grid.shape[1],\n",
    "        count=1,\n",
    "        dtype=bt_grid.dtype,\n",
    "        crs=\"EPSG:2100\",\n",
    "        transform=transform,\n",
    "        nodata=nodata,\n",
    "    ) as dst:\n",
    "        dst.write(bt_grid, 1)\n",
    "\n",
    "    print(f\"Saved: {out_tiff}\")\n"
   ]
  },
  {
   "cell_type": "code",
   "execution_count": 15,
   "id": "5da4f1aa-fcbe-494b-b3e6-b86cdfabaffc",
   "metadata": {
    "tags": []
   },
   "outputs": [
    {
     "name": "stdout",
     "output_type": "stream",
     "text": [
      "Saved: /home/data/sst/bt_L2_epsg2100_scipy.tif\n",
      "Function 'nc2gtiff_scipy' executed in 22.9902 seconds\n"
     ]
    }
   ],
   "source": [
    "nc2gtiff_scipy()"
   ]
  },
  {
   "cell_type": "markdown",
   "id": "9fe42733-9473-4d87-ac67-6cb4714b873b",
   "metadata": {},
   "source": [
    "# Method 2 (pyresample)"
   ]
  },
  {
   "cell_type": "code",
   "execution_count": 3,
   "id": "c3a04d46-5ac5-4b49-9cb5-c8c72b9d12f3",
   "metadata": {
    "tags": []
   },
   "outputs": [],
   "source": [
    "from pyproj import CRS\n",
    "from pyproj import Transformer\n",
    "from pyresample import geometry, kd_tree"
   ]
  },
  {
   "cell_type": "code",
   "execution_count": 4,
   "id": "e787b473-c9e7-4344-8104-8fad7f6d969e",
   "metadata": {
    "tags": []
   },
   "outputs": [],
   "source": [
    "@timing_decorator\n",
    "def nc2gtiff_pyresample(inp_nc: str = \"/home/data/sst/F002_L1__IR__L2L1M0__2025-02-04T235830.003911Z_2025-04-10T200213.364384Z_c395dd14.nc4\",\n",
    "                   out_tiff: str = \"/home/data/sst/bt_L2_epsg2100_pyresample.tif\",\n",
    "                   res: int = 150):\n",
    "\n",
    "    # --- Open the NetCDF file ---\n",
    "    nc_path = Path(inp_nc)\n",
    "\n",
    "    ds = xr.open_dataset(nc_path)\n",
    "\n",
    "    # --- Example: select brightness temperature variable ---\n",
    "    # Replace \"BT\" with the actual name in your file\n",
    "    bt = ds[\"brightness_temperature\"].isel(bands=0).values\n",
    "    lat = ds['lat'].values\n",
    "    lon = ds['lon'].values\n",
    "    flags = ds['flags'].values\n",
    "\n",
    "    # Convert Kelvin to Celsius (optional)\n",
    "    bt = bt - 273.15\n",
    "\n",
    "    # Define swath geometry (source data)\n",
    "    swath = geometry.SwathDefinition(lons=lon, lats=lat)\n",
    "\n",
    "    # Define target area in EPSG:2100\n",
    "    # Choose resolution in meters (e.g. 1000 m)\n",
    "    xmin, xmax = lon.min(), lon.max()\n",
    "    ymin, ymax = lat.min(), lat.max()\n",
    "\n",
    "    # Get projected extent in EPSG:2100\n",
    "    crs_src = CRS.from_epsg(4326)\n",
    "    crs_dst = CRS.from_epsg(2100)\n",
    "\n",
    "    # Transform extent\n",
    "    transformer = Transformer.from_crs(crs_src, crs_dst, always_xy=True)\n",
    "    x_min, y_min = transformer.transform(xmin, ymin)\n",
    "    x_max, y_max = transformer.transform(xmax, ymax)\n",
    "\n",
    "    # Build target grid\n",
    "    nx = int((x_max - x_min) / res)\n",
    "    ny = int((y_max - y_min) / res)\n",
    "\n",
    "    area_def = geometry.AreaDefinition(\n",
    "        \"target_epsg2100\",\n",
    "        \"Reprojected Area\",\n",
    "        \"epsg2100\",\n",
    "        crs_dst.to_wkt(),\n",
    "        nx,\n",
    "        ny,\n",
    "        (x_min, y_min, x_max, y_max)\n",
    "    )\n",
    "\n",
    "    # Resample swath to grid (nearest or bilinear)\n",
    "    bt_grid = kd_tree.resample_nearest(\n",
    "        swath, bt, area_def,\n",
    "        radius_of_influence=5000,  # meters\n",
    "        fill_value=-9999\n",
    "    )\n",
    "\n",
    "    # --- Save to GeoTIFF ---\n",
    "    transform = from_origin(x_min, y_max, res, res)\n",
    "    with rasterio.open(\n",
    "        out_tiff,\n",
    "        \"w\",\n",
    "        driver=\"GTiff\",\n",
    "        height=ny,\n",
    "        width=nx,\n",
    "        count=1,\n",
    "        dtype=bt_grid.dtype,\n",
    "        crs=\"EPSG:2100\",\n",
    "        transform=transform,\n",
    "        nodata=-9999\n",
    "    ) as dst:\n",
    "        dst.write(bt_grid, 1)\n",
    "\n",
    "    print(f\"Saved: {out_tiff}\")"
   ]
  },
  {
   "cell_type": "code",
   "execution_count": 5,
   "id": "a6b58682-3a62-4582-aeac-5b5fe871fcf4",
   "metadata": {
    "tags": []
   },
   "outputs": [
    {
     "name": "stdout",
     "output_type": "stream",
     "text": [
      "Saved: /home/data/sst/bt_L2_epsg2100_pyresample.tif\n",
      "Function 'nc2gtiff_pyresample' executed in 2.7751 seconds\n"
     ]
    }
   ],
   "source": [
    "nc2gtiff_pyresample()"
   ]
  },
  {
   "cell_type": "markdown",
   "id": "fa7aed1c-263f-436f-b97b-f2ea5b37803a",
   "metadata": {},
   "source": [
    "# Method 3 (Dask) (erroneous output)"
   ]
  },
  {
   "cell_type": "code",
   "execution_count": 6,
   "id": "b8b6a4d5-1d3c-4c9f-91be-ae2ae12aade8",
   "metadata": {
    "tags": []
   },
   "outputs": [],
   "source": [
    "from pyproj import CRS, Transformer\n",
    "from pyresample import geometry, kd_tree\n",
    "from dask import array as da\n",
    "from dask.diagnostics import ProgressBar"
   ]
  },
  {
   "cell_type": "code",
   "execution_count": 7,
   "id": "321704ac-7b16-43db-bc4a-cc65da1afb6b",
   "metadata": {
    "tags": []
   },
   "outputs": [],
   "source": [
    "@timing_decorator\n",
    "def nc2gtiff_dask(inp_nc: str = \"/home/data/sst/F002_L1__IR__L2L1M0__2025-02-04T235830.003911Z_2025-04-10T200213.364384Z_c395dd14.nc4\",\n",
    "                   out_tiff: str = \"/home/data/sst/bt_L2_epsg2100_dask.tif\",\n",
    "                   res: int = 150):\n",
    "\n",
    "    # --- Open NetCDF file with Dask ---\n",
    "    nc_path = Path(inp_nc)\n",
    "\n",
    "    ds = xr.open_dataset(nc_path, chunks={\"rows\": 1000, \"columns\": 1000})\n",
    "\n",
    "    # Extract brightness_temperature band 1 lazily\n",
    "    bt = ds[\"brightness_temperature\"].isel(bands=0).data  # dask array\n",
    "    lat = ds[\"lat\"].data\n",
    "    lon = ds[\"lon\"].data\n",
    "\n",
    "    # Convert Kelvin to Celsius lazily\n",
    "    bt = bt - 273.15  \n",
    "\n",
    "    # Define swath geometry\n",
    "    swath = geometry.SwathDefinition(lons=lon, lats=lat)\n",
    "\n",
    "    # --- Define target area in EPSG:2100 ---\n",
    "    # Compute bounds in EPSG:2100\n",
    "    crs_src = CRS.from_epsg(4326)\n",
    "    crs_dst = CRS.from_epsg(2100)\n",
    "    transformer = Transformer.from_crs(crs_src, crs_dst, always_xy=True)\n",
    "\n",
    "    lon_min, lon_max = float(ds[\"lon\"].min()), float(ds[\"lon\"].max())\n",
    "    lat_min, lat_max = float(ds[\"lat\"].min()), float(ds[\"lat\"].max())\n",
    "\n",
    "    x_min, y_min = transformer.transform(lon_min, lat_min)\n",
    "    x_max, y_max = transformer.transform(lon_max, lat_max)\n",
    "\n",
    "    nx = int((x_max - x_min) / res)\n",
    "    ny = int((y_max - y_min) / res)\n",
    "\n",
    "    area_def = geometry.AreaDefinition(\n",
    "        \"target_epsg2100\",\n",
    "        \"Reprojected Area\",\n",
    "        \"epsg2100\",\n",
    "        crs_dst.to_wkt(),\n",
    "        nx,\n",
    "        ny,\n",
    "        (x_min, y_min, x_max, y_max)\n",
    "    )\n",
    "\n",
    "    # --- Resample lazily with Dask ---\n",
    "    def resample_block(bt_block, lat_block, lon_block):\n",
    "        \"\"\"Resample one chunk of data into EPSG:2100 grid.\"\"\"\n",
    "        swath_chunk = geometry.SwathDefinition(lons=lon_block, lats=lat_block)\n",
    "        return kd_tree.resample_nearest(\n",
    "            swath_chunk, bt_block, area_def,\n",
    "            radius_of_influence=450,  # meters\n",
    "            fill_value=-9999\n",
    "        )\n",
    "\n",
    "    # Apply chunk-wise (use dask.map_blocks)\n",
    "    bt_resampled = da.map_blocks(\n",
    "        resample_block, bt, lat, lon,\n",
    "        dtype=np.float32, drop_axis=[]\n",
    "    )\n",
    "\n",
    "    # Trigger computation with progress bar\n",
    "    with ProgressBar():\n",
    "        bt_grid = bt_resampled.compute()\n",
    "\n",
    "    # --- Save to GeoTIFF ---\n",
    "    transform = from_origin(x_min, y_max, res, res)\n",
    "    with rasterio.open(\n",
    "        out_tiff,\n",
    "        \"w\",\n",
    "        driver=\"GTiff\",\n",
    "        height=ny,\n",
    "        width=nx,\n",
    "        count=1,\n",
    "        dtype=bt_grid.dtype,\n",
    "        crs=\"EPSG:2100\",\n",
    "        transform=transform,\n",
    "        nodata=-9999\n",
    "    ) as dst:\n",
    "        dst.write(bt_grid, 1)\n",
    "\n",
    "    print(f\"Saved: {out_tiff}\")"
   ]
  },
  {
   "cell_type": "code",
   "execution_count": 8,
   "id": "5b8e853d-de7d-406a-960e-4332245c40e5",
   "metadata": {
    "tags": []
   },
   "outputs": [
    {
     "name": "stderr",
     "output_type": "stream",
     "text": [
      "/tmp/ipykernel_1730/2402310149.py:9: UserWarning: The specified chunks separate the stored chunks along dimension \"columns\" starting at index 1000. This could degrade performance. Instead, consider rechunking after loading.\n",
      "  ds = xr.open_dataset(nc_path, chunks={\"rows\": 1000, \"columns\": 1000})\n",
      "/tmp/ipykernel_1730/2402310149.py:9: UserWarning: The specified chunks separate the stored chunks along dimension \"rows\" starting at index 1000. This could degrade performance. Instead, consider rechunking after loading.\n",
      "  ds = xr.open_dataset(nc_path, chunks={\"rows\": 1000, \"columns\": 1000})\n"
     ]
    },
    {
     "name": "stdout",
     "output_type": "stream",
     "text": [
      "[#####################                   ] | 54% Completed | 101.87 ms"
     ]
    },
    {
     "name": "stderr",
     "output_type": "stream",
     "text": [
      "/opt/venv/lib/python3.12/site-packages/pyresample/kd_tree.py:261: UserWarning: Searching for 1 neighbours in 0 data points\n",
      "  get_neighbour_info(source_geo_def,\n"
     ]
    },
    {
     "name": "stdout",
     "output_type": "stream",
     "text": [
      "[########################################] | 100% Completed | 2.98 sms\n",
      "Saved: /home/data/sst/bt_L2_epsg2100_dask.tif\n",
      "Function 'nc2gtiff_dask' executed in 3.5584 seconds\n"
     ]
    }
   ],
   "source": [
    "nc2gtiff_dask()"
   ]
  },
  {
   "cell_type": "code",
   "execution_count": null,
   "id": "17d5c4fd-ab76-4fbc-9222-1707e093c204",
   "metadata": {},
   "outputs": [],
   "source": []
  }
 ],
 "metadata": {
  "kernelspec": {
   "display_name": "Python 3 (ipykernel)",
   "language": "python",
   "name": "python3"
  },
  "language_info": {
   "codemirror_mode": {
    "name": "ipython",
    "version": 3
   },
   "file_extension": ".py",
   "mimetype": "text/x-python",
   "name": "python",
   "nbconvert_exporter": "python",
   "pygments_lexer": "ipython3",
   "version": "3.12.3"
  }
 },
 "nbformat": 4,
 "nbformat_minor": 5
}
