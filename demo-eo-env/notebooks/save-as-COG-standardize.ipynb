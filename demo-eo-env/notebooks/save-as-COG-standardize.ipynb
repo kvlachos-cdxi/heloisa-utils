{
 "cells": [
  {
   "cell_type": "code",
   "execution_count": 6,
   "id": "9ded0839-9370-47cb-8581-91f4cf17f1ee",
   "metadata": {},
   "outputs": [],
   "source": [
    "import rasterio\n",
    "from rasterio.enums import Resampling\n",
    "from rasterio.shutil import copy\n",
    "from rio_cogeo import cog_validate\n",
    "\n",
    "import numpy as np"
   ]
  },
  {
   "cell_type": "markdown",
   "id": "4ae84fec-7041-4fbf-8077-33b417345542",
   "metadata": {},
   "source": [
    "#### Convert GeoTiff to Cloud-Optimized GeoTiff"
   ]
  },
  {
   "cell_type": "markdown",
   "id": "32f0413c-d510-4bc2-a338-c0ad447752e0",
   "metadata": {},
   "source": [
    "The conversion can also be implemented using `rio-cogeo 5.4.1 `, but this is a simple conversion with `rasterio` and `GDAL` in the background.  \n",
    "Requirements:  \n",
    "    `GDAL >= 3.1`  \n",
    "    `rasterio >= 1.2`  \n",
    "An example of rio-cogeo can be found here: https://guide.cloudnativegeo.org/cloud-optimized-geotiffs/writing-cogs-in-python.html"
   ]
  },
  {
   "cell_type": "code",
   "execution_count": 2,
   "id": "a5445936-1dda-42c2-8c89-a5264e90ee20",
   "metadata": {},
   "outputs": [],
   "source": [
    "def nearest_power_of_two(n):\n",
    "    \"\"\"\n",
    "    Returns the largest power of two <= n (if n is a power of two), with the maximum possible value being 512.\n",
    "    \"\"\"\n",
    "    power = 2**(n.bit_length() - 1)\n",
    "    return min(power, 512)\n",
    "\n",
    "def choose_predictor(dtype):\n",
    "    \"\"\"\n",
    "    Returns predictor value based on data type.\n",
    "    \"\"\"\n",
    "    if dtype.startswith('float'):\n",
    "        predictor = 3\n",
    "    else:\n",
    "        predictor = 2\n",
    "\n",
    "    return predictor"
   ]
  },
  {
   "cell_type": "code",
   "execution_count": 5,
   "id": "02833641-920b-44c6-8feb-28a80a9aa1f2",
   "metadata": {},
   "outputs": [],
   "source": [
    "# Path to your input raster file\n",
    "input_path = \"/home/data/S2A_MSIL1C_20241105T091151_N0511_R050_T34SGG_20241105T100127_reprojected_mskchla_linear_gapfilled.tif\"\n",
    "output_path = \"/home/data/S2A_MSIL1C_20241105T091151_N0511_R050_T34SGG_20241105T100127_reprojected_mskchla_linear_gapfilled_COG.tif\"\n",
    "\n",
    "with rasterio.open(input_path) as src:\n",
    "    profile = src.profile.copy()\n",
    "\n",
    "    #### Build Pyramids (i.e., overviews)\n",
    "    factors = [2, 4, 8, 16] # If the output image size is small, Pyramids may not be built, cause GDAL thinks they are not needed.\n",
    "\n",
    "    #### Define block sizes to be powers of 2, but less than 512\n",
    "    width, height = src.width, src.height\n",
    "    max_blocksize = 2**9 # 512\n",
    "    blockxsize = nearest_power_of_two(min(width, max_blocksize))\n",
    "    blockysize = nearest_power_of_two(min(height, max_blocksize))\n",
    "\n",
    "    #### Select predictor value\n",
    "    predictor = choose_predictor(src.dtypes[0])  # 2 for integers, 3 for floats\n",
    "    \n",
    "    # Use rasterio.shutil.copy to save as COG\n",
    "    copy(\n",
    "        src,\n",
    "        output_path,\n",
    "        driver=\"COG\", # this works only with rasterio >= 1.2 and GDAL >= 3.1\n",
    "        compress=\"deflate\",\n",
    "        overview_resampling=\"nearest\", # Resampling.nearest,\n",
    "        overview_levels=factors,\n",
    "        blockxsize=blockxsize,\n",
    "        blockysize=blockysize,\n",
    "        interleave=\"band\",\n",
    "        BIGTIFF=\"IF_SAFER\", # depends on the image size (if it's > 4gb)\n",
    "        predictor=predictor,\n",
    "        tiled=True\n",
    "    )    "
   ]
  },
  {
   "cell_type": "markdown",
   "id": "0d4648ec-a933-40e2-9b23-a93929d7458e",
   "metadata": {},
   "source": [
    "#### Validate COG file"
   ]
  },
  {
   "cell_type": "markdown",
   "id": "a1845d8d-631a-4d7b-b03c-023040a1ebfa",
   "metadata": {},
   "source": [
    "The following can be used for validation of the output COG and can be included in a report generated per product."
   ]
  },
  {
   "cell_type": "code",
   "execution_count": 8,
   "id": "1abb4ee2-8308-4cbe-814a-1aae3cb05093",
   "metadata": {},
   "outputs": [
    {
     "name": "stderr",
     "output_type": "stream",
     "text": [
      "\u001b[33mThe following warnings were found:\u001b[0m\n",
      "- The file is greater than 512xH or 512xW, it is recommended to include internal overviews\n",
      "\n",
      "\u001b[31mThe following errors were found:\u001b[0m\n",
      "- The file is greater than 512xH or 512xW, but is not tiled\n"
     ]
    },
    {
     "data": {
      "text/plain": [
       "((True, [], []),\n",
       " (False,\n",
       "  ['The file is greater than 512xH or 512xW, but is not tiled'],\n",
       "  ['The file is greater than 512xH or 512xW, it is recommended to include internal overviews']))"
      ]
     },
     "execution_count": 8,
     "metadata": {},
     "output_type": "execute_result"
    }
   ],
   "source": [
    "cog_validate(output_path), cog_validate(input_path)"
   ]
  },
  {
   "cell_type": "code",
   "execution_count": null,
   "id": "8131d47c-2540-477c-89dd-7dfc1c7c30ed",
   "metadata": {},
   "outputs": [],
   "source": []
  }
 ],
 "metadata": {
  "kernelspec": {
   "display_name": "Python 3 (ipykernel)",
   "language": "python",
   "name": "python3"
  },
  "language_info": {
   "codemirror_mode": {
    "name": "ipython",
    "version": 3
   },
   "file_extension": ".py",
   "mimetype": "text/x-python",
   "name": "python",
   "nbconvert_exporter": "python",
   "pygments_lexer": "ipython3",
   "version": "3.12.3"
  }
 },
 "nbformat": 4,
 "nbformat_minor": 5
}
