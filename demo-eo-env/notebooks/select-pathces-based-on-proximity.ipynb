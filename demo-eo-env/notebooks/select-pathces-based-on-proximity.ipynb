{
 "cells": [
  {
   "cell_type": "code",
   "execution_count": 237,
   "id": "ad134510-8a13-4d7b-b110-897ccb8c7f9c",
   "metadata": {
    "tags": []
   },
   "outputs": [],
   "source": [
    "import numpy as np\n",
    "from sklearn.neighbors import NearestNeighbors\n",
    "\n",
    "import matplotlib.pyplot as plt"
   ]
  },
  {
   "cell_type": "markdown",
   "id": "0dd38746-48c1-4105-8b2a-986329685077",
   "metadata": {},
   "source": [
    "First you generate simulated x and y coordinates. Each x and y pair corresponds to a patche's location. In the real application you can derived the x and y pair of coordinates from the affine matrix (top-left point) or from the bounding box. It doesn't matter which that point, as long as it's consistent for all patches (i.e., top-left for all patches or top-right for all patches etc.)"
   ]
  },
  {
   "cell_type": "code",
   "execution_count": 246,
   "id": "5f2b2615-6b7c-4bec-badf-fa1196412bbc",
   "metadata": {
    "tags": []
   },
   "outputs": [
    {
     "data": {
      "text/plain": [
       "(array([   0., 1280., 2560., 3840., 5120., 6400.]),\n",
       " array([   0., 1280., 2560., 3840., 5120., 6400.]))"
      ]
     },
     "execution_count": 246,
     "metadata": {},
     "output_type": "execute_result"
    }
   ],
   "source": [
    "px_size = 10 # pixel size in meters (10m for Sentinel-2)\n",
    "x_N = 6 # Number of patches in longitude (x) direction\n",
    "y_N = 6 # Number of patches in the latitude (y) direction\n",
    "patch_width = 128 # patch width in pixels\n",
    "patch_height = 128 # patch height in pixels\n",
    "\n",
    "# Generate the x and y\n",
    "x = np.linspace(0, patch_width*px_size*(x_N-1), x_N)  # x_N points from 0 to ...\n",
    "y = np.linspace(0, patch_height*px_size*(y_N-1), y_N)  # y_N points from 0 to ...\n",
    "\n",
    "x, y"
   ]
  },
  {
   "cell_type": "code",
   "execution_count": 247,
   "id": "42f3190f-b2fd-4e8d-864a-d9dc2bc9131e",
   "metadata": {
    "tags": []
   },
   "outputs": [
    {
     "data": {
      "text/plain": [
       "((6, 6), (6, 6))"
      ]
     },
     "execution_count": 247,
     "metadata": {},
     "output_type": "execute_result"
    }
   ],
   "source": [
    "# Create a meshgrid\n",
    "x_grid, y_grid = np.meshgrid(x, y)\n",
    "\n",
    "x_grid.shape, y_grid.shape"
   ]
  },
  {
   "cell_type": "code",
   "execution_count": 248,
   "id": "6870c6e8-afdc-4e4b-98e3-d17a31601f92",
   "metadata": {
    "tags": []
   },
   "outputs": [
    {
     "data": {
      "text/plain": [
       "((36,), (36,))"
      ]
     },
     "execution_count": 248,
     "metadata": {},
     "output_type": "execute_result"
    }
   ],
   "source": [
    "# reshape to 1D\n",
    "x_grid_ravel = x_grid.ravel()\n",
    "y_grid_ravel = y_grid.ravel()\n",
    "\n",
    "x_grid_ravel.shape, y_grid_ravel.shape"
   ]
  },
  {
   "cell_type": "code",
   "execution_count": 249,
   "id": "859327e2-2689-4d5e-b06f-a3f3b684f48a",
   "metadata": {
    "tags": []
   },
   "outputs": [
    {
     "data": {
      "text/plain": [
       "(36, 2)"
      ]
     },
     "execution_count": 249,
     "metadata": {},
     "output_type": "execute_result"
    }
   ],
   "source": [
    "# Stack column-wise\n",
    "x_y_grid_ravel = np.column_stack((x_grid_ravel, y_grid_ravel))\n",
    "\n",
    "x_y_grid_ravel.shape"
   ]
  },
  {
   "cell_type": "markdown",
   "id": "b54a3c36-3e8a-4c77-bc56-db17aad36249",
   "metadata": {},
   "source": [
    "Here you select the index of the patch with `seed_index` and the number of patches to be selected for training with `N_n`"
   ]
  },
  {
   "cell_type": "code",
   "execution_count": 253,
   "id": "8fc5a6a1-4ac2-4862-ac32-7923082e7254",
   "metadata": {
    "tags": []
   },
   "outputs": [],
   "source": [
    "# Choose a seed patch (e.g., index 0)\n",
    "seed_index = 120\n",
    "# check index value\n",
    "if seed_index < 0:\n",
    "    seed_index = 0\n",
    "elif seed_index >= x_y_grid_ravel.shape[0]:\n",
    "    seed_index = x_y_grid_ravel.shape[0]-1\n",
    "\n",
    "seed_point = x_y_grid_ravel[seed_index].reshape(1, -1)\n",
    "\n",
    "# Select nearest neighbors (including the seed)\n",
    "N_n = 28 # Number of neighbours to select for Training\n",
    "if N_n > x_N*y_N:\n",
    "    N_n = x_N*y_N\n",
    "    \n",
    "nbrs = NearestNeighbors(n_neighbors=N_n, algorithm='ball_tree').fit(x_y_grid_ravel)\n",
    "distances, indices = nbrs.kneighbors(seed_point)\n",
    "\n",
    "# Get indices for training and test\n",
    "train_indices = indices.flatten()\n",
    "test_indices = np.setdiff1d(np.arange(x_y_grid_ravel.shape[0]), train_indices)\n",
    "\n",
    "# print(\"Train indices:\", train_indices)\n",
    "# print(\"Test indices:\", test_indices)"
   ]
  },
  {
   "cell_type": "code",
   "execution_count": 254,
   "id": "5b88a735-9b69-4967-8df8-b85d0f7ad300",
   "metadata": {
    "tags": []
   },
   "outputs": [
    {
     "data": {
      "image/png": "[encoded data removed]",
      "text/plain": [
       "<Figure size 640x480 with 1 Axes>"
      ]
     },
     "metadata": {},
     "output_type": "display_data"
    }
   ],
   "source": [
    "# Plot patches selected for training (red) and test (blue)\n",
    "plt.scatter(x_grid_ravel[train_indices], y_grid_ravel[train_indices], color='red'); # plot train\n",
    "plt.scatter(x_grid_ravel[test_indices], y_grid_ravel[test_indices], color='blue'); # plot test\n",
    "plt.legend(['Train', 'Test']);"
   ]
  },
  {
   "cell_type": "code",
   "execution_count": null,
   "id": "fd70044d-480d-4784-9064-f93b437beef1",
   "metadata": {},
   "outputs": [],
   "source": []
  }
 ],
 "metadata": {
  "kernelspec": {
   "display_name": "Python 3 (ipykernel)",
   "language": "python",
   "name": "python3"
  },
  "language_info": {
   "codemirror_mode": {
    "name": "ipython",
    "version": 3
   },
   "file_extension": ".py",
   "mimetype": "text/x-python",
   "name": "python",
   "nbconvert_exporter": "python",
   "pygments_lexer": "ipython3",
   "version": "3.12.3"
  }
 },
 "nbformat": 4,
 "nbformat_minor": 5
}
