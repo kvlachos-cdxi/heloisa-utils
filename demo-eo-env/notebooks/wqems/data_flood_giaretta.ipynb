{
 "cells": [
  {
   "cell_type": "code",
   "execution_count": 1,
   "id": "45fa3573-bef5-4344-bea9-45f939f609ed",
   "metadata": {},
   "outputs": [],
   "source": [
    "import numpy as np\n",
    "import matplotlib.pyplot as plt"
   ]
  },
  {
   "cell_type": "code",
   "execution_count": 2,
   "id": "68f41529-42e0-4f14-abee-db24bbc8f6d2",
   "metadata": {},
   "outputs": [],
   "source": [
    "data_path = '/home/data/mydata/giaretta/data.npy'\n",
    "\n",
    "data = np.load(data_path)"
   ]
  },
  {
   "cell_type": "code",
   "execution_count": 3,
   "id": "6180612e-3c6d-4f1b-b75f-ebe199403599",
   "metadata": {},
   "outputs": [
    {
     "data": {
      "text/plain": [
       "(883884, 21, 2)"
      ]
     },
     "execution_count": 3,
     "metadata": {},
     "output_type": "execute_result"
    }
   ],
   "source": [
    "data.shape"
   ]
  },
  {
   "cell_type": "code",
   "execution_count": 4,
   "id": "a7829198-b5e0-4b70-8aaf-2b6a9c234e32",
   "metadata": {},
   "outputs": [
    {
     "data": {
      "text/plain": [
       "(883884, 1, 2)"
      ]
     },
     "execution_count": 4,
     "metadata": {},
     "output_type": "execute_result"
    }
   ],
   "source": [
    "# create mask for time series that have only zeros (bad data)\n",
    "valid_mask = np.all(~(data==0), axis=1)\n",
    "valid_mask = np.expand_dims(valid_mask, axis=1)\n",
    "valid_mask.shape"
   ]
  },
  {
   "cell_type": "markdown",
   "id": "00897079-a074-46d1-a7fb-62a3eadad1e6",
   "metadata": {},
   "source": [
    "### Statistics of Giaretta dataset\n",
    "The point here is to check mean and standard deviation of dataset when computed e.g. across all samples (timesteps & features) or across one sample (timesteps & features)"
   ]
  },
  {
   "cell_type": "markdown",
   "id": "0ab3b5ff-5e63-4723-ba0f-5b669951f27b",
   "metadata": {},
   "source": [
    "#### Across all samples, timesteps, channels"
   ]
  },
  {
   "cell_type": "code",
   "execution_count": 5,
   "id": "10d3c826-2224-4ea1-a33d-5686c13e8bbb",
   "metadata": {},
   "outputs": [
    {
     "data": {
      "text/plain": [
       "(37123128,)"
      ]
     },
     "execution_count": 5,
     "metadata": {},
     "output_type": "execute_result"
    }
   ],
   "source": [
    "# exclude zeros\n",
    "zero_mask = data.ravel() != 0\n",
    "zero_mask.shape"
   ]
  },
  {
   "cell_type": "markdown",
   "id": "e7ae327b-a74a-4cfb-bddf-d511634b0328",
   "metadata": {},
   "source": [
    "##### With zeros"
   ]
  },
  {
   "cell_type": "code",
   "execution_count": 6,
   "id": "69410247-ea99-4588-bb1c-1bc880972b30",
   "metadata": {},
   "outputs": [
    {
     "data": {
      "text/plain": [
       "(-9.756962, -10.606184, 7.416879)"
      ]
     },
     "execution_count": 6,
     "metadata": {},
     "output_type": "execute_result"
    }
   ],
   "source": [
    "data.ravel().mean(), np.median(data.ravel()), data.ravel().std()"
   ]
  },
  {
   "cell_type": "markdown",
   "id": "55b19ba0-aa99-426d-b262-b965f5a38574",
   "metadata": {},
   "source": [
    "##### Without zeros"
   ]
  },
  {
   "cell_type": "code",
   "execution_count": 7,
   "id": "250bfb70-b6de-435b-b4e5-96bdee05bd53",
   "metadata": {},
   "outputs": [
    {
     "data": {
      "text/plain": [
       "(-13.682089, -13.203133, 4.8410525)"
      ]
     },
     "execution_count": 7,
     "metadata": {},
     "output_type": "execute_result"
    }
   ],
   "source": [
    "data.ravel()[zero_mask].mean(), np.median(data.ravel()[zero_mask]), data.ravel()[zero_mask].std()"
   ]
  },
  {
   "cell_type": "markdown",
   "id": "4d961407-588d-489e-bf75-4aff6aea19d3",
   "metadata": {},
   "source": [
    "#### Per-sample across timesteps and channels"
   ]
  },
  {
   "cell_type": "markdown",
   "id": "62c04556-0f74-4dab-82da-b033334ed6df",
   "metadata": {},
   "source": [
    "##### With zeros"
   ]
  },
  {
   "cell_type": "code",
   "execution_count": 8,
   "id": "be11f091-101d-442e-a2e2-cfc54bfc0672",
   "metadata": {},
   "outputs": [],
   "source": [
    "sample_mean = data.mean(axis=(1, 2))\n",
    "sample_median = np.median(data, axis=(1, 2))\n",
    "sample_std = data.std(axis=(1, 2))"
   ]
  },
  {
   "cell_type": "code",
   "execution_count": 9,
   "id": "77b22f7f-34d6-45b8-8027-162dcfdfa791",
   "metadata": {},
   "outputs": [
    {
     "data": {
      "text/plain": [
       "(-9.756977, -9.677257, 2.8878908)"
      ]
     },
     "execution_count": 9,
     "metadata": {},
     "output_type": "execute_result"
    },
    {
     "data": {
      "image/png": "[encoded data removed]",
      "text/plain": [
       "<Figure size 1296x360 with 2 Axes>"
      ]
     },
     "metadata": {
      "needs_background": "light"
     },
     "output_type": "display_data"
    }
   ],
   "source": [
    "fig, ax = plt.subplots(figsize=(18, 5), ncols=2, nrows=1);\n",
    "ax[0].hist(sample_mean, bins=100);\n",
    "ax[0].set_title(label='Histogram of means per sample', fontsize=15)\n",
    "\n",
    "ax[1].hist(sample_std, bins=100);\n",
    "ax[1].set_title('Histogram of stds per sample', fontsize=15)\n",
    "\n",
    "sample_mean.mean(), sample_median.mean(), sample_std.mean()"
   ]
  },
  {
   "cell_type": "markdown",
   "id": "9878ef96-cbd9-44c3-b642-90d459f7eaae",
   "metadata": {},
   "source": [
    "##### Without zeros"
   ]
  },
  {
   "cell_type": "code",
   "execution_count": 10,
   "id": "469c7725-f2f1-4f03-a02a-0e77158a9343",
   "metadata": {},
   "outputs": [],
   "source": [
    "mean_zero_mask = data.mean(axis=(1, 2)) != 0\n",
    "std_zero_mask = data.std(axis=(1, 2)) != 0"
   ]
  },
  {
   "cell_type": "code",
   "execution_count": 11,
   "id": "03a57daa-ce3d-4236-9e1b-1a8cedd1492c",
   "metadata": {},
   "outputs": [],
   "source": [
    "sample_mean = data.mean(axis=(1, 2))[mean_zero_mask]\n",
    "sample_median = np.median(data, axis=(1, 2))\n",
    "sample_std = data.std(axis=(1, 2))[std_zero_mask]"
   ]
  },
  {
   "cell_type": "code",
   "execution_count": 12,
   "id": "8504ca9d-415d-44da-8f32-b7cbd25fea6d",
   "metadata": {},
   "outputs": [
    {
     "data": {
      "text/plain": [
       "(-13.619769, -9.677257, 4.031206)"
      ]
     },
     "execution_count": 12,
     "metadata": {},
     "output_type": "execute_result"
    },
    {
     "data": {
      "image/png": "[encoded data removed]",
      "text/plain": [
       "<Figure size 1296x360 with 2 Axes>"
      ]
     },
     "metadata": {
      "needs_background": "light"
     },
     "output_type": "display_data"
    }
   ],
   "source": [
    "fig, ax = plt.subplots(figsize=(18, 5), ncols=2, nrows=1);\n",
    "ax[0].hist(sample_mean, bins=100);\n",
    "ax[0].set_title(label='Histogram of means per sample', fontsize=15)\n",
    "\n",
    "ax[1].hist(sample_std, bins=100);\n",
    "ax[1].set_title('Histogram of stds per sample', fontsize=15)\n",
    "\n",
    "sample_mean.mean(), sample_median.mean(), sample_std.mean()"
   ]
  },
  {
   "cell_type": "code",
   "execution_count": 13,
   "id": "e8016e62-6879-4075-b612-861986d697b3",
   "metadata": {},
   "outputs": [
    {
     "data": {
      "text/plain": [
       "array([-35.242245, -35.05288 , -33.405525, ...,  26.048649,  26.266224,\n",
       "        26.305006], dtype=float32)"
      ]
     },
     "execution_count": 13,
     "metadata": {},
     "output_type": "execute_result"
    }
   ],
   "source": [
    "np.unique(data[:, :, 0])"
   ]
  },
  {
   "cell_type": "code",
   "execution_count": 14,
   "id": "93368ff7-0b50-459a-bcd0-96c60d3b68ff",
   "metadata": {},
   "outputs": [],
   "source": [
    "vv_array = data[:, :, 0].ravel()\n",
    "vh_array = data[:, :, 1].ravel()"
   ]
  },
  {
   "cell_type": "code",
   "execution_count": 15,
   "id": "24357561-8e8c-472a-bdd6-e56dee7cd831",
   "metadata": {},
   "outputs": [
    {
     "data": {
      "image/png": "[encoded data removed]",
      "text/plain": [
       "<Figure size 432x288 with 1 Axes>"
      ]
     },
     "metadata": {
      "needs_background": "light"
     },
     "output_type": "display_data"
    }
   ],
   "source": [
    "plt.hist(vv_array, bins=100);"
   ]
  },
  {
   "cell_type": "code",
   "execution_count": 16,
   "id": "2db3f4e7-bc25-431b-b9ae-203b90adfdbb",
   "metadata": {},
   "outputs": [
    {
     "data": {
      "image/png": "[encoded data removed]",
      "text/plain": [
       "<Figure size 432x288 with 1 Axes>"
      ]
     },
     "metadata": {
      "needs_background": "light"
     },
     "output_type": "display_data"
    }
   ],
   "source": [
    "plt.hist(vh_array, bins=100);"
   ]
  },
  {
   "cell_type": "code",
   "execution_count": 17,
   "id": "a1c84ac1-7a85-4281-94f5-e35e991c09cb",
   "metadata": {},
   "outputs": [],
   "source": [
    "vv_array_inv = 10**(vv_array/10)\n",
    "vh_array_inv = 10**(vh_array/10)"
   ]
  },
  {
   "cell_type": "code",
   "execution_count": 18,
   "id": "c3dd5389-e30f-4c96-84c0-9db8dc8e2e06",
   "metadata": {},
   "outputs": [
    {
     "ename": "ValueError",
     "evalue": "not enough values to unpack (expected 2, got 0)",
     "output_type": "error",
     "traceback": [
      "\u001b[0;31m---------------------------------------------------------------------------\u001b[0m",
      "\u001b[0;31mValueError\u001b[0m                                Traceback (most recent call last)",
      "Input \u001b[0;32mIn [18]\u001b[0m, in \u001b[0;36m<cell line: 2>\u001b[0;34m()\u001b[0m\n\u001b[1;32m      1\u001b[0m plt\u001b[38;5;241m.\u001b[39mhist(vv_array_inv, bins\u001b[38;5;241m=\u001b[39m\u001b[38;5;241m100\u001b[39m);\n\u001b[0;32m----> 2\u001b[0m \u001b[43mplt\u001b[49m\u001b[38;5;241;43m.\u001b[39;49m\u001b[43mxlim\u001b[49m\u001b[43m(\u001b[49m\u001b[43m[\u001b[49m\u001b[43m]\u001b[49m\u001b[43m)\u001b[49m\n",
      "File \u001b[0;32m/usr/local/lib/python3.9/site-packages/matplotlib/pyplot.py:1699\u001b[0m, in \u001b[0;36mxlim\u001b[0;34m(*args, **kwargs)\u001b[0m\n\u001b[1;32m   1697\u001b[0m \u001b[38;5;28;01mif\u001b[39;00m \u001b[38;5;129;01mnot\u001b[39;00m args \u001b[38;5;129;01mand\u001b[39;00m \u001b[38;5;129;01mnot\u001b[39;00m kwargs:\n\u001b[1;32m   1698\u001b[0m     \u001b[38;5;28;01mreturn\u001b[39;00m ax\u001b[38;5;241m.\u001b[39mget_xlim()\n\u001b[0;32m-> 1699\u001b[0m ret \u001b[38;5;241m=\u001b[39m \u001b[43max\u001b[49m\u001b[38;5;241;43m.\u001b[39;49m\u001b[43mset_xlim\u001b[49m\u001b[43m(\u001b[49m\u001b[38;5;241;43m*\u001b[39;49m\u001b[43margs\u001b[49m\u001b[43m,\u001b[49m\u001b[43m \u001b[49m\u001b[38;5;241;43m*\u001b[39;49m\u001b[38;5;241;43m*\u001b[39;49m\u001b[43mkwargs\u001b[49m\u001b[43m)\u001b[49m\n\u001b[1;32m   1700\u001b[0m \u001b[38;5;28;01mreturn\u001b[39;00m ret\n",
      "File \u001b[0;32m/usr/local/lib/python3.9/site-packages/matplotlib/axes/_base.py:3677\u001b[0m, in \u001b[0;36m_AxesBase.set_xlim\u001b[0;34m(self, left, right, emit, auto, xmin, xmax)\u001b[0m\n\u001b[1;32m   3610\u001b[0m \u001b[38;5;124;03m\"\"\"\u001b[39;00m\n\u001b[1;32m   3611\u001b[0m \u001b[38;5;124;03mSet the x-axis view limits.\u001b[39;00m\n\u001b[1;32m   3612\u001b[0m \n\u001b[0;32m   (...)\u001b[0m\n\u001b[1;32m   3674\u001b[0m \n\u001b[1;32m   3675\u001b[0m \u001b[38;5;124;03m\"\"\"\u001b[39;00m\n\u001b[1;32m   3676\u001b[0m \u001b[38;5;28;01mif\u001b[39;00m right \u001b[38;5;129;01mis\u001b[39;00m \u001b[38;5;28;01mNone\u001b[39;00m \u001b[38;5;129;01mand\u001b[39;00m np\u001b[38;5;241m.\u001b[39miterable(left):\n\u001b[0;32m-> 3677\u001b[0m     left, right \u001b[38;5;241m=\u001b[39m left\n\u001b[1;32m   3678\u001b[0m \u001b[38;5;28;01mif\u001b[39;00m xmin \u001b[38;5;129;01mis\u001b[39;00m \u001b[38;5;129;01mnot\u001b[39;00m \u001b[38;5;28;01mNone\u001b[39;00m:\n\u001b[1;32m   3679\u001b[0m     \u001b[38;5;28;01mif\u001b[39;00m left \u001b[38;5;129;01mis\u001b[39;00m \u001b[38;5;129;01mnot\u001b[39;00m \u001b[38;5;28;01mNone\u001b[39;00m:\n",
      "\u001b[0;31mValueError\u001b[0m: not enough values to unpack (expected 2, got 0)"
     ]
    },
    {
     "data": {
      "image/png": "[encoded data removed]",
      "text/plain": [
       "<Figure size 432x288 with 1 Axes>"
      ]
     },
     "metadata": {
      "needs_background": "light"
     },
     "output_type": "display_data"
    }
   ],
   "source": [
    "plt.hist(vv_array_inv, bins=100);\n",
    "plt.xlim([])"
   ]
  },
  {
   "cell_type": "code",
   "execution_count": 19,
   "id": "df15b9eb-04f5-4e7d-bee0-526a676ddb68",
   "metadata": {},
   "outputs": [
    {
     "data": {
      "text/plain": [
       "(0.40950036, 0.0002990718, 427.07147)"
      ]
     },
     "execution_count": 19,
     "metadata": {},
     "output_type": "execute_result"
    }
   ],
   "source": [
    "np.mean(vv_array_inv), np.min(vv_array_inv), np.max(vv_array_inv)"
   ]
  },
  {
   "cell_type": "code",
   "execution_count": 20,
   "id": "6ec2fe66-1d47-42c3-811d-a32718f6c8c3",
   "metadata": {},
   "outputs": [
    {
     "data": {
      "text/plain": [
       "(0.3054096, 0.00016005182, 71.86074)"
      ]
     },
     "execution_count": 20,
     "metadata": {},
     "output_type": "execute_result"
    }
   ],
   "source": [
    "np.mean(vh_array_inv), np.min(vh_array_inv), np.max(vh_array_inv)"
   ]
  },
  {
   "cell_type": "code",
   "execution_count": 21,
   "id": "ca843c4b-2c6e-4597-8499-75ad259d39a2",
   "metadata": {},
   "outputs": [
    {
     "data": {
      "text/plain": [
       "-7.0297093"
      ]
     },
     "execution_count": 21,
     "metadata": {},
     "output_type": "execute_result"
    }
   ],
   "source": [
    "np.mean(vv_array)"
   ]
  },
  {
   "cell_type": "code",
   "execution_count": 22,
   "id": "6ab07359-fd56-45fc-aae0-52c922b654d0",
   "metadata": {},
   "outputs": [
    {
     "data": {
      "image/png": "[encoded data removed]",
      "text/plain": [
       "<Figure size 432x288 with 1 Axes>"
      ]
     },
     "metadata": {
      "needs_background": "light"
     },
     "output_type": "display_data"
    }
   ],
   "source": [
    "plt.hist(vh_array_inv, bins=100);"
   ]
  },
  {
   "cell_type": "code",
   "execution_count": null,
   "id": "540ce481-fb7c-4a5c-ab14-2f3d90ce1ed7",
   "metadata": {},
   "outputs": [],
   "source": []
  },
  {
   "cell_type": "code",
   "execution_count": 23,
   "id": "272a2ebb-ad17-481e-b746-1e746f36f214",
   "metadata": {},
   "outputs": [
    {
     "ename": "NameError",
     "evalue": "name 'labels' is not defined",
     "output_type": "error",
     "traceback": [
      "\u001b[0;31m---------------------------------------------------------------------------\u001b[0m",
      "\u001b[0;31mNameError\u001b[0m                                 Traceback (most recent call last)",
      "Input \u001b[0;32mIn [23]\u001b[0m, in \u001b[0;36m<cell line: 1>\u001b[0;34m()\u001b[0m\n\u001b[0;32m----> 1\u001b[0m data\u001b[38;5;241m.\u001b[39mshape, \u001b[43mlabels\u001b[49m\u001b[38;5;241m.\u001b[39mshape\n",
      "\u001b[0;31mNameError\u001b[0m: name 'labels' is not defined"
     ]
    }
   ],
   "source": [
    "data.shape, labels.shape"
   ]
  },
  {
   "cell_type": "code",
   "execution_count": 34,
   "id": "cc93de25-52f2-46f0-ac6a-70902c95236f",
   "metadata": {},
   "outputs": [
    {
     "data": {
      "text/plain": [
       "(21, 32707)"
      ]
     },
     "execution_count": 34,
     "metadata": {},
     "output_type": "execute_result"
    }
   ],
   "source": [
    "data[labels==1, :, 0].T.shape"
   ]
  },
  {
   "cell_type": "code",
   "execution_count": 45,
   "id": "7497dee3-09f7-4502-b1b1-81469eb565e2",
   "metadata": {},
   "outputs": [],
   "source": [
    "def get_mean_confidence(data, conf_upper, conf_lower):\n",
    "    \"\"\"\n",
    "    Args:\n",
    "        data (numpy.array): dimensions should be (time, length)\n",
    "    \n",
    "    Returns:\n",
    "        mean, upper, lower (tuple): returns a tuple of numpy.array objects\n",
    "    \"\"\"\n",
    "    return np.median(data, axis=1), np.mean(data, axis=1), np.percentile(data, conf_upper, axis=1), np.percentile(data, conf_lower, axis=1)"
   ]
  },
  {
   "cell_type": "code",
   "execution_count": 58,
   "id": "7fb38d83-3c6c-45a3-b29a-d3dd2afae0a3",
   "metadata": {},
   "outputs": [],
   "source": [
    "vv_median, vv_mean, vv_upper, vv_lower = get_mean_confidence(data[labels==1, :, 1].T, 100, 0)\n",
    "# vh_mean, vh_upper, vh_lower = get_mean_confidence(data[labels==1,...], 95, 5)"
   ]
  },
  {
   "cell_type": "code",
   "execution_count": 59,
   "id": "c5674254-9701-42b6-8655-dc109e09c159",
   "metadata": {},
   "outputs": [
    {
     "data": {
      "image/png": "[encoded data removed]",
      "text/plain": [
       "<Figure size 1080x432 with 1 Axes>"
      ]
     },
     "metadata": {
      "needs_background": "light"
     },
     "output_type": "display_data"
    }
   ],
   "source": [
    "# plot time series\n",
    "fig, ax = plt.subplots(figsize=(15, 6))\n",
    "\n",
    "# flood\n",
    "p1 = ax.plot_date(np.arange(21), vv_median, '-bo'); # plot mean\n",
    "p2 = ax.fill_between(np.arange(21), vv_upper, vv_lower, alpha=0.1, color='b'); # plot confidence intervals\n",
    "# no flood\n",
    "# ax.plot_date(eop_image.timestamp[:-2], vh_mean, '-ro', xdate=True, ydate=False);\n",
    "# ax.fill_between(eop_image.timestamp[:-2], vh_upper, vh_lower, alpha=0.1, color='r');\n",
    "\n",
    "# ax.legend(['Flood average', 'No Flood average', 'Flood std', 'No Flood std'], loc='upper left')\n",
    "# ax.tick_params('x', rotation=45)\n",
    "# ax.set_ylabel(r'VV $\\sigma_0$ [dB]', fontsize=15)\n",
    "# ax.set_title('Time Series of annotated data', fontsize=23)\n",
    "# ax.grid();\n",
    "# ax.xaxis.set_major_formatter(mdates.DateFormatter('%d %b %Y'))"
   ]
  },
  {
   "cell_type": "code",
   "execution_count": 32,
   "id": "f56e4a0e-1a52-4d86-ae9f-33a5bcc9bef0",
   "metadata": {},
   "outputs": [
    {
     "data": {
      "text/plain": [
       "(32707,)"
      ]
     },
     "execution_count": 32,
     "metadata": {},
     "output_type": "execute_result"
    }
   ],
   "source": [
    "vv_mean.shape"
   ]
  },
  {
   "cell_type": "code",
   "execution_count": null,
   "id": "f49c094d-6b40-44e3-919b-9a4bd59ab984",
   "metadata": {},
   "outputs": [],
   "source": []
  },
  {
   "cell_type": "code",
   "execution_count": null,
   "id": "fdb1a00a-026f-4ad6-83ab-dac2b0f192a3",
   "metadata": {},
   "outputs": [],
   "source": []
  },
  {
   "cell_type": "code",
   "execution_count": null,
   "id": "1e692031-864e-4f2f-a79f-7c98c67b8647",
   "metadata": {},
   "outputs": [],
   "source": [
    "import requests\n",
    "\n",
    "# url = 'https://qc.sentinel1.eo.esa.int/'\n",
    "# url = 'http://aux.sentinel1.eo.esa.int/'\n",
    "url = 'http://step.esa.int/auxdata/orbits/Sentinel-1/POEORB/'\n",
    "response = requests.get(url)\n",
    "response.json()"
   ]
  },
  {
   "cell_type": "code",
   "execution_count": null,
   "id": "3e0d78fb-0190-4d58-9ab2-ba0935c636ad",
   "metadata": {},
   "outputs": [],
   "source": []
  }
 ],
 "metadata": {
  "kernelspec": {
   "display_name": "Python 3 (ipykernel)",
   "language": "python",
   "name": "python3"
  },
  "language_info": {
   "codemirror_mode": {
    "name": "ipython",
    "version": 3
   },
   "file_extension": ".py",
   "mimetype": "text/x-python",
   "name": "python",
   "nbconvert_exporter": "python",
   "pygments_lexer": "ipython3",
   "version": "3.9.12"
  }
 },
 "nbformat": 4,
 "nbformat_minor": 5
}
