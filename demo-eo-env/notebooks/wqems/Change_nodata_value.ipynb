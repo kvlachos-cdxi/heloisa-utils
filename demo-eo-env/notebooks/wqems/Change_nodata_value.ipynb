{
 "cells": [
  {
   "cell_type": "code",
   "execution_count": null,
   "id": "a7e5115d-1bbf-4fd3-a395-61b667c81af5",
   "metadata": {},
   "outputs": [],
   "source": [
    "!pip install geojson"
   ]
  },
  {
   "cell_type": "code",
   "execution_count": null,
   "id": "6598baf8-96b2-4346-95c5-a089c8cae981",
   "metadata": {},
   "outputs": [],
   "source": [
    "from pathlib import Path\n",
    "import json\n",
    "import datetime\n",
    "\n",
    "import geojson\n",
    "\n",
    "from eolearn.io.local_io import ImportFromTiffTask\n",
    "from eolearn.core import OverwritePermission, FeatureType\n",
    "from eolearn.io import ExportToTiffTask\n",
    "from eolearn.geometry.transformations import RasterToVectorTask, VectorToRasterTask\n",
    "from eolearn.io.geometry_io import VectorImportTask\n",
    "\n",
    "import numpy as np\n",
    "\n",
    "import matplotlib.pyplot as plt"
   ]
  },
  {
   "cell_type": "code",
   "execution_count": 2,
   "id": "eb28bee8-c33f-4e5a-b060-8bd84d3df260",
   "metadata": {},
   "outputs": [],
   "source": [
    "import eolearn\n"
   ]
  },
  {
   "cell_type": "code",
   "execution_count": 6,
   "id": "b42120a8-fecb-4406-a976-28821f074c77",
   "metadata": {},
   "outputs": [
    {
     "data": {
      "text/plain": [
       "('1.2.0', '1.2.0')"
      ]
     },
     "execution_count": 6,
     "metadata": {},
     "output_type": "execute_result"
    }
   ],
   "source": [
    "eolearn.io.__version__, eolearn.core.__version__"
   ]
  },
  {
   "cell_type": "code",
   "execution_count": 2,
   "id": "c22e4406-28ff-474f-9309-824f7b9e1d7a",
   "metadata": {},
   "outputs": [],
   "source": [
    "# Define no data\n",
    "no_data_value = 2**8-1"
   ]
  },
  {
   "cell_type": "code",
   "execution_count": 3,
   "id": "86b27cb6-9d8f-4057-b474-5df717eb8756",
   "metadata": {},
   "outputs": [
    {
     "data": {
      "text/plain": [
       "[PosixPath('/home/data/mydata/extremeevent-oilspill_polyphytos_20171230_SENT2_m10_test.tif'),\n",
       " PosixPath('/home/data/mydata/extremeevent-oilspill_polyphytos_20211224_SENT2_m10.tif'),\n",
       " PosixPath('/home/data/mydata/extremeevent-oilspill_polyphytos_20171230_SENT2_m10.tif'),\n",
       " PosixPath('/home/data/mydata/extremeevent-oilspill_polyphytos_20210118_SENT2_m10_test.tif'),\n",
       " PosixPath('/home/data/mydata/extremeevent-oilspill_polyphytos_20210118_SENT2_m10.tif')]"
      ]
     },
     "execution_count": 3,
     "metadata": {},
     "output_type": "execute_result"
    }
   ],
   "source": [
    "fpath_geotiff = Path('/home/data/mydata')\n",
    "fpath_geotiff = list(fpath_geotiff.glob('*SENT2*.tif'))\n",
    "fpath_geotiff"
   ]
  },
  {
   "cell_type": "code",
   "execution_count": 4,
   "id": "d8312b12-5cc5-4353-83ea-a46218685477",
   "metadata": {},
   "outputs": [
    {
     "data": {
      "text/plain": [
       "EOPatch(\n",
       "  mask_timeless={\n",
       "    oil: numpy.ndarray(shape=(1837, 2791, 1), dtype=uint8)\n",
       "  }\n",
       "  bbox=BBox(((21.842773515061342, 40.12878480606537), (22.10907078501535, 40.30404142098529)), crs=CRS('4326'))\n",
       ")"
      ]
     },
     "execution_count": 4,
     "metadata": {},
     "output_type": "execute_result"
    }
   ],
   "source": [
    "idx = 1\n",
    "# Read flood geotiff\n",
    "eop = ImportFromTiffTask(feature=(FeatureType.MASK_TIMELESS, 'oil'),\n",
    "                       folder=fpath_geotiff[idx],\n",
    "                       image_dtype=np.uint8,\n",
    "                       no_data_value=0)\n",
    "eop = eop.execute()\n",
    "eop"
   ]
  },
  {
   "cell_type": "code",
   "execution_count": null,
   "id": "76b1de9c-e0bc-4bb0-8d2b-00a1fa5b0425",
   "metadata": {},
   "outputs": [],
   "source": [
    "# eop.mask_timeless['oil'][500:700, 500:900, 0] = 255"
   ]
  },
  {
   "cell_type": "code",
   "execution_count": 5,
   "id": "8a941029-3b15-4487-973d-d2d900fe5203",
   "metadata": {},
   "outputs": [
    {
     "data": {
      "text/plain": [
       "array([0, 1], dtype=uint8)"
      ]
     },
     "execution_count": 5,
     "metadata": {},
     "output_type": "execute_result"
    }
   ],
   "source": [
    "np.unique(eop.mask_timeless['oil'])"
   ]
  },
  {
   "cell_type": "code",
   "execution_count": null,
   "id": "b1941273-c2d8-4d06-a35d-6ecf9b675150",
   "metadata": {},
   "outputs": [],
   "source": [
    "# eop.plot((FeatureType.MASK_TIMELESS, 'oil'))"
   ]
  },
  {
   "cell_type": "code",
   "execution_count": 6,
   "id": "1aec1a57-d3a0-4b6b-a443-6bd626924c22",
   "metadata": {},
   "outputs": [],
   "source": [
    "eop_new = eop.copy()\n",
    "eop_new.bbox = eop.bbox"
   ]
  },
  {
   "cell_type": "code",
   "execution_count": 8,
   "id": "84067c11-2915-4dca-83ec-7e9fc62b306a",
   "metadata": {},
   "outputs": [
    {
     "name": "stdout",
     "output_type": "stream",
     "text": [
      "21.842773515061342,40.12878480606537,22.10907078501535,40.30404142098529\n"
     ]
    }
   ],
   "source": [
    "print(eop.bbox)"
   ]
  },
  {
   "cell_type": "code",
   "execution_count": null,
   "id": "28650c63-0536-4e59-8c4a-d6255c68749d",
   "metadata": {},
   "outputs": [],
   "source": [
    "eop_new"
   ]
  },
  {
   "cell_type": "code",
   "execution_count": 28,
   "id": "00bba30b-d763-4c96-93fb-e56e7ebe3b19",
   "metadata": {},
   "outputs": [
    {
     "data": {
      "text/plain": [
       "EOPatch(\n",
       "  vector_timeless={\n",
       "    polyphytos: geopandas.GeoDataFrame(columns=['Name', 'descriptio', 'timestamp', 'begin', 'end', 'altitudeMo', 'tessellate', 'extrude', 'visibility', 'drawOrder', 'icon', 'geometry'], length=1, crs=EPSG:4326)\n",
       "  }\n",
       "  bbox=BBox(((21.842773515061342, 40.12882326251892), (22.10907078501535, 40.30404142098529)), crs=CRS('4326'))\n",
       ")"
      ]
     },
     "execution_count": 28,
     "metadata": {},
     "output_type": "execute_result"
    }
   ],
   "source": [
    "polyph_task = VectorImportTask((FeatureType.VECTOR_TIMELESS, 'polyphytos'),\n",
    "                               '/home/data/mydata/polyphytos_reservoir.shp',\n",
    "                               reproject=True,\n",
    "                               clip=True)\n",
    "eop_polyph = polyph_task.execute(bbox=eop_new.bbox)\n",
    "eop_polyph"
   ]
  },
  {
   "cell_type": "code",
   "execution_count": 29,
   "id": "01988962-ddfc-4519-b9ae-99fe7ddc655f",
   "metadata": {},
   "outputs": [],
   "source": [
    "# eop_polyph.plot((FeatureType.VECTOR_TIMELESS, 'polyphytos'))"
   ]
  },
  {
   "cell_type": "code",
   "execution_count": 30,
   "id": "1d4a9dd8-e050-48e7-804e-e6d8d206dcdd",
   "metadata": {},
   "outputs": [
    {
     "data": {
      "text/plain": [
       "EOPatch(\n",
       "  mask_timeless={\n",
       "    oil: numpy.ndarray(shape=(1689, 2567, 1), dtype=uint8)\n",
       "  }\n",
       "  vector_timeless={\n",
       "    polyphytos: geopandas.GeoDataFrame(columns=['Name', 'descriptio', 'timestamp', 'begin', 'end', 'altitudeMo', 'tessellate', 'extrude', 'visibility', 'drawOrder', 'icon', 'geometry'], length=1, crs=EPSG:4326)\n",
       "  }\n",
       "  bbox=BBox(((21.842773515061342, 40.12882326251892), (22.10907078501535, 40.30404142098529)), crs=CRS('4326'))\n",
       ")"
      ]
     },
     "execution_count": 30,
     "metadata": {},
     "output_type": "execute_result"
    }
   ],
   "source": [
    "eop_new.vector_timeless['polyphytos'] = eop_polyph.vector_timeless['polyphytos']\n",
    "eop_new"
   ]
  },
  {
   "cell_type": "code",
   "execution_count": 31,
   "id": "a7d7e0cf-24be-4aed-88ce-050bfb590432",
   "metadata": {},
   "outputs": [
    {
     "name": "stderr",
     "output_type": "stream",
     "text": [
      "/usr/local/lib/python3.9/site-packages/eolearn/geometry/transformations.py:214: EORuntimeWarning: Given vector polygons contain some 3D geometries, they will be projected to 2D\n",
      "  warnings.warn(\n"
     ]
    },
    {
     "data": {
      "text/plain": [
       "EOPatch(\n",
       "  mask_timeless={\n",
       "    oil: numpy.ndarray(shape=(1689, 2567, 1), dtype=uint8)\n",
       "    polyphytos_raster: numpy.ndarray(shape=(1689, 2567, 1), dtype=uint8)\n",
       "  }\n",
       "  vector_timeless={\n",
       "    polyphytos: geopandas.GeoDataFrame(columns=['Name', 'descriptio', 'timestamp', 'begin', 'end', 'altitudeMo', 'tessellate', 'extrude', 'visibility', 'drawOrder', 'icon', 'geometry'], length=1, crs=EPSG:4326)\n",
       "  }\n",
       "  bbox=BBox(((21.842773515061342, 40.12882326251892), (22.10907078501535, 40.30404142098529)), crs=CRS('4326'))\n",
       ")"
      ]
     },
     "execution_count": 31,
     "metadata": {},
     "output_type": "execute_result"
    }
   ],
   "source": [
    "# Rasterize vector\n",
    "v2r = VectorToRasterTask(vector_input=(FeatureType.VECTOR_TIMELESS, 'polyphytos'),\n",
    "                     raster_feature=(FeatureType.MASK_TIMELESS, 'polyphytos_raster'),\n",
    "                     values=[0, 1],\n",
    "                     values_column='tessellate',\n",
    "                     no_data_value=0,\n",
    "                     raster_dtype=np.uint8,\n",
    "                     raster_shape=eop_new.mask_timeless['oil'].shape[:2])\n",
    "\n",
    "eop_v_r = v2r.execute(eop_new)\n",
    "eop_v_r"
   ]
  },
  {
   "cell_type": "code",
   "execution_count": 32,
   "id": "8517e9bf-bca1-44f8-904b-a9c61e9cb329",
   "metadata": {},
   "outputs": [
    {
     "data": {
      "text/plain": [
       "array([0, 1], dtype=uint8)"
      ]
     },
     "execution_count": 32,
     "metadata": {},
     "output_type": "execute_result"
    }
   ],
   "source": [
    "np.unique(eop_new.mask_timeless['polyphytos_raster'])"
   ]
  },
  {
   "cell_type": "code",
   "execution_count": 33,
   "id": "e60e1161-5bd6-4072-8475-5cfbdc507e4c",
   "metadata": {},
   "outputs": [],
   "source": [
    "lw_mask = eop_new.mask_timeless['polyphytos_raster'].astype('bool')"
   ]
  },
  {
   "cell_type": "code",
   "execution_count": 34,
   "id": "5ac78b47-0aea-4a80-997b-caeec0cf6811",
   "metadata": {},
   "outputs": [],
   "source": [
    "# fig, ax = plt.subplots(figsize=(15, 8))\n",
    "# ppp = ax.imshow(lw_mask)\n",
    "# fig.colorbar(ppp, ax=ax)"
   ]
  },
  {
   "cell_type": "code",
   "execution_count": 35,
   "id": "218ad7d1-46b2-4626-8f46-cbbbfbf8a30f",
   "metadata": {},
   "outputs": [],
   "source": [
    "eop_new.mask_timeless['oil'][~lw_mask] = no_data_value"
   ]
  },
  {
   "cell_type": "code",
   "execution_count": 36,
   "id": "7415722b-202c-42db-b297-1e0acdf7c7b3",
   "metadata": {},
   "outputs": [
    {
     "data": {
      "text/plain": [
       "<matplotlib.colorbar.Colorbar at 0x7f8447d734f0>"
      ]
     },
     "execution_count": 36,
     "metadata": {},
     "output_type": "execute_result"
    },
    {
     "data": {
      "image/png": "[encoded data removed]",
      "text/plain": [
       "<Figure size 1440x864 with 2 Axes>"
      ]
     },
     "metadata": {
      "needs_background": "light"
     },
     "output_type": "display_data"
    }
   ],
   "source": [
    "fig, ax = plt.subplots(figsize=(20, 12))\n",
    "ppp = ax.imshow(eop_new.mask_timeless['oil'], vmin=0, vmax=1)\n",
    "fig.colorbar(ppp, ax=ax)"
   ]
  },
  {
   "cell_type": "code",
   "execution_count": 37,
   "id": "33b9ade5-dd40-4a95-8c2b-24a55fdd348f",
   "metadata": {},
   "outputs": [],
   "source": [
    "# Save as GeoTIFF\n",
    "export_tiff = ExportToTiffTask(feature=(FeatureType.MASK_TIMELESS, 'oil'),\n",
    "                               folder=fpath_geotiff[idx].parent/(fpath_geotiff[idx].stem+'_test.tif'),\n",
    "                               date_indices=None,\n",
    "                               no_data_value=no_data_value,\n",
    "                               image_dtype=np.uint8,\n",
    "                               crs='EPSG:32634')\n",
    "                               # compress='DEFLATE')\n",
    "export_tiff.execute(eop_new);"
   ]
  },
  {
   "cell_type": "markdown",
   "id": "f7f93c6a-5586-4d06-a196-8733305d39da",
   "metadata": {},
   "source": [
    "#### Create statistics json (hardcode)"
   ]
  },
  {
   "cell_type": "code",
   "execution_count": null,
   "id": "1c00b0e5-2036-46ce-ab25-dbe6010aa473",
   "metadata": {},
   "outputs": [],
   "source": [
    "eop_new.mask_timeless['oil']"
   ]
  },
  {
   "cell_type": "code",
   "execution_count": 147,
   "id": "b072bc19-6642-458f-909c-6b351726844a",
   "metadata": {},
   "outputs": [
    {
     "data": {
      "text/plain": [
       "['extremeevent-oilspill', 'polyphytos', '20210118', 'SENT2', 'm10']"
      ]
     },
     "execution_count": 147,
     "metadata": {},
     "output_type": "execute_result"
    }
   ],
   "source": [
    "fname_elems = fpath_geotiff[idx].stem.split('_')\n",
    "fname_elems"
   ]
  },
  {
   "cell_type": "code",
   "execution_count": 148,
   "id": "1fee6b7a-f4a1-4630-ae3d-ea2fefadb32a",
   "metadata": {},
   "outputs": [
    {
     "data": {
      "text/plain": [
       "'EPSG:4326'"
      ]
     },
     "execution_count": 148,
     "metadata": {},
     "output_type": "execute_result"
    }
   ],
   "source": [
    "eop_new.bbox.crs.ogc_string()"
   ]
  },
  {
   "cell_type": "code",
   "execution_count": 149,
   "id": "71f8b4d7-d4dd-4ce7-aa60-37d2dd67d63c",
   "metadata": {},
   "outputs": [],
   "source": [
    "stats = [{}]\n",
    "stats[0]['localId'] = fname_elems[1]\n",
    "stats[0]['crs'] = eop_new.bbox.crs.ogc_string()\n",
    "stats[0]['startDate'] = f'{fname_elems[2][:4]}-{fname_elems[2][4:6]}-{fname_elems[2][6:]}'\n",
    "stats[0]['endDate'] = None\n",
    "stats[0]['bbox'] = geojson.Feature(geometry=eop_new.bbox.geometry, properties={}).geometry['coordinates'][0][:-1]\n",
    "stats[0]['producedDate'] = datetime.datetime.now(datetime.timezone.utc).isoformat().replace(\"+00:00\", \"Z\")\n",
    "stats[0]['dataFileName'] = fpath_geotiff[idx].name\n",
    "stats[0]['metadataFileName'] = fpath_geotiff[idx].stem+'.xml'\n",
    "stats[0]['pixelSize'] = [10, 10]\n",
    "stats[0]['satellite'] = 'SENT2'\n",
    "stats[0]['serviceName'] = fname_elems[0]\n",
    "stats[0]['parameters'] = [{'measureType': 'oil-px-lake-px', 'value': 0.5},\n",
    "                            {'measureType': 'occurrence-oil-spill-event', 'value': True},\n",
    "                            {'measureType': 'circular-mean-orientation-oil-spill-segments', 'value': 45.0},\n",
    "                            {'measureType': 'circular-standard-deviation-orientation-oil-spill-segments', 'value': 15.0},\n",
    "                            {'measureType': 'mean-area-oil-spill-segments', 'value': 120.206418},\n",
    "                            {'measureType': 'med-area-oil-spill-segments', 'value': 130},\n",
    "                            {'measureType': 'std-area-oil-spill-segments', 'value': 60.206},\n",
    "                            {'measureType': 'mean-eccentricity-oil-spill-segments', 'value': 0.5},\n",
    "                            {'measureType': 'med-eccentricity-oil-spill-segments', 'value': 0.4},\n",
    "                            {'measureType': 'std-eccentricity-oil-spill-segments', 'value': 0.2},\n",
    "                            {'measureType': 'number-oil-spill-segments', 'value': 3}\n",
    "                       ]"
   ]
  },
  {
   "cell_type": "code",
   "execution_count": 150,
   "id": "3924326f-cd3b-431c-a75c-4c15a4edda75",
   "metadata": {},
   "outputs": [
    {
     "data": {
      "text/plain": [
       "[{'localId': 'polyphytos',\n",
       "  'crs': 'EPSG:4326',\n",
       "  'startDate': '2021-01-18',\n",
       "  'endDate': None,\n",
       "  'bbox': [[21.842774, 40.128823],\n",
       "   [21.842774, 40.304041],\n",
       "   [22.109071, 40.304041],\n",
       "   [22.109071, 40.128823]],\n",
       "  'producedDate': '2022-06-21T12:26:55.931381Z',\n",
       "  'dataFileName': 'extremeevent-oilspill_polyphytos_20210118_SENT2_m10.tif',\n",
       "  'metadataFileName': 'extremeevent-oilspill_polyphytos_20210118_SENT2_m10.xml',\n",
       "  'pixelSize': [10, 10],\n",
       "  'satellite': 'SENT2',\n",
       "  'serviceName': 'extremeevent-oilspill',\n",
       "  'parameters': [{'measureType': 'oil-px-lake-px', 'value': 0.5},\n",
       "   {'measureType': 'occurrence-oil-spill-event', 'value': True},\n",
       "   {'measureType': 'circular-mean-orientation-oil-spill-segments',\n",
       "    'value': 45.0},\n",
       "   {'measureType': 'circular-standard-deviation-orientation-oil-spill-segments',\n",
       "    'value': 15.0},\n",
       "   {'measureType': 'mean-area-oil-spill-segments', 'value': 120.206418},\n",
       "   {'measureType': 'med-area-oil-spill-segments', 'value': 130},\n",
       "   {'measureType': 'std-area-oil-spill-segments', 'value': 60.206},\n",
       "   {'measureType': 'mean-eccentricity-oil-spill-segments', 'value': 0.5},\n",
       "   {'measureType': 'med-eccentricity-oil-spill-segments', 'value': 0.4},\n",
       "   {'measureType': 'std-eccentricity-oil-spill-segments', 'value': 0.2},\n",
       "   {'measureType': 'number-oil-spill-segments', 'value': 3}]}]"
      ]
     },
     "execution_count": 150,
     "metadata": {},
     "output_type": "execute_result"
    }
   ],
   "source": [
    "stats"
   ]
  },
  {
   "cell_type": "code",
   "execution_count": 151,
   "id": "942d6160-3268-46f5-8b50-ab6f57e54f3f",
   "metadata": {},
   "outputs": [],
   "source": [
    "with open (fpath_geotiff[idx].parent/(fpath_geotiff[idx].stem+'.json'), 'w', encoding='UTF-8') as json_f:\n",
    "    json.dump(stats, json_f, indent=4)"
   ]
  },
  {
   "cell_type": "code",
   "execution_count": null,
   "id": "e11b2512-74f1-4507-b691-27b6b78f7417",
   "metadata": {},
   "outputs": [],
   "source": []
  }
 ],
 "metadata": {
  "kernelspec": {
   "display_name": "Python 3 (ipykernel)",
   "language": "python",
   "name": "python3"
  },
  "language_info": {
   "codemirror_mode": {
    "name": "ipython",
    "version": 3
   },
   "file_extension": ".py",
   "mimetype": "text/x-python",
   "name": "python",
   "nbconvert_exporter": "python",
   "pygments_lexer": "ipython3",
   "version": "3.9.12"
  }
 },
 "nbformat": 4,
 "nbformat_minor": 5
}
