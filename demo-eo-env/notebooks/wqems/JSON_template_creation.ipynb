{
 "cells": [
  {
   "cell_type": "code",
   "execution_count": 20,
   "id": "73d8b8ec-6cd8-4df9-b83f-b9576255adf4",
   "metadata": {},
   "outputs": [],
   "source": [
    "from pathlib import Path\n",
    "import json"
   ]
  },
  {
   "cell_type": "code",
   "execution_count": 21,
   "id": "20b79938-e530-4f8b-8615-16c6c545044b",
   "metadata": {},
   "outputs": [],
   "source": [
    "base_path = Path('/home/data/metadata samples')"
   ]
  },
  {
   "cell_type": "markdown",
   "id": "7a22b19b-6d30-43f3-83fb-98e27af85370",
   "metadata": {},
   "source": [
    "#### FLOOD"
   ]
  },
  {
   "cell_type": "code",
   "execution_count": 22,
   "id": "77069c41-76ac-4f03-a44c-0c399249af5b",
   "metadata": {},
   "outputs": [],
   "source": [
    "with open(base_path/'eodag_product_metadata.geojson', mode='r', encoding='utf-8') as f:\n",
    "# with open(base_path/'eodag_test.geojson', mode='r', encoding='utf-8') as f:\n",
    "    eodag = json.load(f)"
   ]
  },
  {
   "cell_type": "code",
   "execution_count": 23,
   "id": "051a45be-4604-47e5-9ab9-7f63d4a1662a",
   "metadata": {},
   "outputs": [
    {
     "data": {
      "text/plain": [
       "{'geometry': {'type': 'MultiPolygon',\n",
       "  'coordinates': [[[[9.890936, 45.432392],\n",
       "     [13.222304, 45.838543],\n",
       "     [12.919847, 47.339939],\n",
       "     [9.496517, 46.934612],\n",
       "     [9.890936, 45.432392]]]]},\n",
       " 'id': 'S1A_IW_GRDH_1SDV_20211223T170713_20211223T170738_041139_04E360_0A4B',\n",
       " 'properties': {'platform': 'Sentinel-1',\n",
       "  'processingLevel': 'LEVEL-1',\n",
       "  'productType': 'IW_GRDH_1S',\n",
       "  'uid': '27dd0e1e-9805-41bb-8133-4c686c5f986d',\n",
       "  'orbitDirection': 'ASCENDING',\n",
       "  'startTimeFromAscendingNode': '2021-12-23T17:07:13.549Z',\n",
       "  'polarizationChannels': 'VV VH',\n",
       "  'downloadLink': 'https://catalogue.onda-dias.eu/dias-catalogue/Products(27dd0e1e-9805-41bb-8133-4c686c5f986d)/$value',\n",
       "  'lastRelativeOrbitNumber': '117',\n",
       "  'relativeOrbitNumber': '117',\n",
       "  'cycleNumber': '249'}}"
      ]
     },
     "execution_count": 23,
     "metadata": {},
     "output_type": "execute_result"
    }
   ],
   "source": [
    "eodag.pop('type')\n",
    "# Define keys that you want to keep\n",
    "eodag_keys = ['geometry', 'id', 'properties']\n",
    "eodag_prop_keys = ['eodag_search_intersection', 'platform', 'processingLevel', 'productType', 'uid',\n",
    "                   'orbitDirection', 'startTimeFromAscendingNode', 'polarizationChannels', 'downloadLink', 'lastRelativeOrbitNumber',\n",
    "                   'relativeOrbitNumber', 'cycleNumber']\n",
    "\n",
    "eodag_new = {key:eodag.get(key, 'NotFound') for key in eodag_keys}\n",
    "eodag_new['properties'] = {}\n",
    "eodag_new['properties'] = {key:eodag['properties'].get(key, 'NotApplicable') for key in eodag_prop_keys}\n",
    "eodag_new['properties'].pop('eodag_search_intersection')\n",
    "eodag_new"
   ]
  },
  {
   "cell_type": "code",
   "execution_count": 24,
   "id": "8ae2b04c-298e-481e-84b4-5785731cdfc5",
   "metadata": {},
   "outputs": [],
   "source": [
    "# with open(base_path/'wqems_custom_metadata.json', mode='r', encoding='utf-8') as f:\n",
    "#     custom = json.load(f)\n",
    "# custom"
   ]
  },
  {
   "cell_type": "code",
   "execution_count": 25,
   "id": "49182fa4-2853-4ffc-a076-4d7abd8881c2",
   "metadata": {},
   "outputs": [],
   "source": [
    "# properties = ['productID', 'productURL', 'sensingDate', 'platformName', 'relativeOrbit', 'sensorMode']\n",
    "\n",
    "# for prop in properties:\n",
    "#     custom.pop(prop)\n",
    "# custom"
   ]
  },
  {
   "cell_type": "code",
   "execution_count": 26,
   "id": "fb928604-159e-4a8e-829d-23abfd298449",
   "metadata": {},
   "outputs": [],
   "source": [
    "# Statistics JSON for HTTP POST\n",
    "stats_floods = [\n",
    "    {\n",
    "        \"localId\": \"giaretta\",\n",
    "        \"bbox\": [\n",
    "            [\n",
    "                [11.672138, 45.621148],\n",
    "                [11.672138, 45.692411],\n",
    "                [11.747696, 45.692411],\n",
    "                [11.747696, 45.621148],\n",
    "                [11.672138, 45.621148]\n",
    "            ]\n",
    "        ],\n",
    "        \"dataFileName\": \"extremeevent-flood_giaretta_20181027_SENT1_m10.tiff\",\n",
    "        \"metadataFileName\": \"extremeevent-flood_giaretta_20181027_SENT1_m10.xml\",\n",
    "        \"satellite\": \"SENT1\",\n",
    "        \"serviceName\": \"extremeevent-flood\",\n",
    "        \"startDate\": \"2018-10-27\",\n",
    "        \"endDate\": None,\n",
    "        \"pixelSize\": [10, 10],\n",
    "        \"parameters\": [\n",
    "            {\n",
    "                \"measureType\": \"flood-px-lake-px\",\n",
    "                \"value\": 0\n",
    "            },\n",
    "            {\n",
    "                \"measureType\": \"occurrence-flood-event\",\n",
    "                \"value\": 0\n",
    "            },\n",
    "            {\n",
    "                \"measureType\": \"mean-area-flood-segments\",\n",
    "                \"value\": 0\n",
    "            },\n",
    "            {\n",
    "                \"measureType\": \"med-area-flood-segments\",\n",
    "                \"value\": 0\n",
    "            },\n",
    "            {\n",
    "                \"measureType\": \"std-area-flood-segments\",\n",
    "                \"value\": 0\n",
    "            }\n",
    "        ],\n",
    "        \"producedDate\": \"2018-10-27T18:18:47.360Z\",\n",
    "        \"crs\": \"EPSG:4326\"\n",
    "    }\n",
    "]"
   ]
  },
  {
   "cell_type": "code",
   "execution_count": 27,
   "id": "755b7c6a-ea2a-46e5-b313-f766b7f631d9",
   "metadata": {},
   "outputs": [],
   "source": [
    "wqems_flood = {'originalProducts': {'dataProvider': 'ONDADIAS', 'searchBbox': eodag['properties']['eodag_search_intersection'], 'productList': [eodag_new]*19},\n",
    "               'modelInfo': {'modelAssessmentMetrics': {'overallAccuracy': 0,\n",
    "                                                        'recall': 0,\n",
    "                                                        'precision': 0,\n",
    "                                                        'f1-score': 0,\n",
    "                                                        'IoU': 0,\n",
    "                                                        'FPR': 0},\n",
    "                             'abstract': 'Extreme flood mapping service is based on a one-dimensional convolutional neural network model which is\\\n",
    "applied on a series of Sentinel-1 images in a pixel-wise sense.',\n",
    "                             'modelName': 'example_0_conv1d_19days'},\n",
    "               'contactEmail': 'example@iti.gr',\n",
    "               'productFormat': 'geotiff',\n",
    "               'productName': 'extremeevent-flood_giaretta_20181027_SENT1_m10',\n",
    "               'pixelSize': [10, 10],\n",
    "               'license': 'example_CC BY-NC-SA 4.0',\n",
    "               'producedDate': '2022-06-01T18:11:10.000Z',\n",
    "               'provider': 'wqems/certh/mklab',\n",
    "               'timeliness': 'example_NRT-3h',\n",
    "               'contentInformation': [{'layerName': 'band1',\n",
    "                                       'layerCategorization': 'categorical',\n",
    "                                       'valuesExplanation': ['1:flood', '0:no_flood'],\n",
    "                                       'dataType': 'uint8',\n",
    "                                       'noData': 255}],\n",
    "               'alertStatus': {'status': 'yes/no/undefined',\n",
    "                               'thresholdValue': 0,\n",
    "                               'thresholdParameter': 'mean-area-flood-segments'},\n",
    "               'serviceName': 'extremeevent-flood',\n",
    "               'pilot': 'Italy',\n",
    "               'localId': 'giaretta',\n",
    "               'location': {\n",
    "                   'type': 'Polygon',\n",
    "                   'coordinates': [\n",
    "                       [\n",
    "                           [11.672138, 45.621148],\n",
    "                           [11.672138, 45.692411],\n",
    "                           [11.747696, 45.692411],\n",
    "                           [11.747696, 45.621148],\n",
    "                           [11.672138, 45.621148]\n",
    "                       ]\n",
    "                   ]\n",
    "               },\n",
    "               'processedBbox': {'type': 'Polygon',\n",
    "                                 'coordinates':[\n",
    "                                     [\n",
    "                                         [11.672138, 45.621148],\n",
    "                                         [11.672138, 45.692411],\n",
    "                                         [11.747696, 45.692411],\n",
    "                                         [11.747696, 45.621148],\n",
    "                                         [11.672138, 45.621148]\n",
    "                                     ]\n",
    "                                 ]\n",
    "                                },\n",
    "               'crs': 'EPSG:4326',\n",
    "               'statistics' : stats_floods[0]['parameters']\n",
    "              }"
   ]
  },
  {
   "cell_type": "code",
   "execution_count": 28,
   "id": "36e03244-bcf8-426b-8d27-affa93d3f416",
   "metadata": {},
   "outputs": [],
   "source": [
    "with open('/home/data/metadata samples/wqems_flood.json', 'w', encoding='UTF-8') as json_f:\n",
    "    json.dump(wqems_flood, json_f, indent=4)"
   ]
  },
  {
   "cell_type": "markdown",
   "id": "339f5634-94d8-4151-9d5b-77502bc82847",
   "metadata": {},
   "source": [
    "#### OIL SPILL"
   ]
  },
  {
   "cell_type": "code",
   "execution_count": 29,
   "id": "1f83a52f-8d82-4131-979d-f437cb255274",
   "metadata": {},
   "outputs": [],
   "source": [
    "with open(base_path/'eodag_product_test_S2.geojson', mode='r', encoding='utf-8') as f:\n",
    "    eodag = json.load(f)"
   ]
  },
  {
   "cell_type": "code",
   "execution_count": 30,
   "id": "3c269b16-970f-4251-aa41-7cee82794a4b",
   "metadata": {},
   "outputs": [
    {
     "data": {
      "text/plain": [
       "{'geometry': {'type': 'MultiPolygon',\n",
       "  'coordinates': [[[[11.663504207768549, 45.034190140253024],\n",
       "     [11.710544147597721, 46.02142174250963],\n",
       "     [10.2925320358333, 46.046265456303395],\n",
       "     [10.270075671777485, 45.05819732058294],\n",
       "     [11.663504207768549, 45.034190140253024]]]]},\n",
       " 'id': 'S2B_MSIL1C_20201219T101329_N0209_R022_T32TPR_20201219T110853',\n",
       " 'properties': {'platform': 'Sentinel-2',\n",
       "  'processingLevel': 'LEVEL-1C',\n",
       "  'productType': 'S2MSI1C',\n",
       "  'uid': '0cc47398-f49f-4e7c-ab32-9be2d3bf04ab',\n",
       "  'cloudCover': 33.5558,\n",
       "  'orbitDirection': 'DESCENDING',\n",
       "  'creationDate': '2020-12-19T13:34:40.668Z',\n",
       "  'downloadLink': 'https://catalogue.onda-dias.eu/dias-catalogue/Products(0cc47398-f49f-4e7c-ab32-9be2d3bf04ab)/$value',\n",
       "  'relativeOrbitNumber': '22'}}"
      ]
     },
     "execution_count": 30,
     "metadata": {},
     "output_type": "execute_result"
    }
   ],
   "source": [
    "eodag.pop('type')\n",
    "# Define keys that you want to keep\n",
    "eodag_keys = ['geometry', 'id', 'properties']\n",
    "eodag_prop_keys = ['eodag_search_intersection', 'platform', 'processingLevel', 'productType', 'uid', 'cloudCover',\n",
    "                   'orbitDirection', 'creationDate', 'downloadLink', 'relativeOrbitNumber']\n",
    "\n",
    "eodag_new = {key:eodag.get(key, 'NotApplicable') for key in eodag_keys}\n",
    "eodag_new['properties'] = {}\n",
    "eodag_new['properties'] = {key:eodag['properties'].get(key, 'NotApplicable') for key in eodag_prop_keys}\n",
    "eodag_new['properties'].pop('eodag_search_intersection')\n",
    "eodag_new"
   ]
  },
  {
   "cell_type": "code",
   "execution_count": 31,
   "id": "293e872a-0a90-4555-8d7a-b35c710b9334",
   "metadata": {},
   "outputs": [],
   "source": [
    "stats_oil = [\n",
    "    {\n",
    "        \"localId\": \"polyphytos\",\n",
    "        \"bbox\": [\n",
    "            [\n",
    "                [21.819352, 40.107504],\n",
    "                [22.103094, 40.107504],\n",
    "                [22.103094, 40.301976],\n",
    "                [21.819352, 40.301976],\n",
    "                [21.819352, 40.107504]\n",
    "            ]\n",
    "        ],\n",
    "        \"dataFileName\": \"extremeevent-oilspill_polyphytos_20181027_SENT2_m10.tiff\",\n",
    "        \"metadataFileName\": \"extremeevent-oilspill_polyphytos_20181027_SENT2_m10.xml\",\n",
    "        \"satellite\": \"SENT2\",\n",
    "        \"serviceName\": \"extremeevent-oilspill\",\n",
    "        \"startDate\": \"2018-10-27\",\n",
    "        \"endDate\": None,\n",
    "        \"pixelSize\": [10, 10],\n",
    "        \"parameters\": [\n",
    "            {\n",
    "                \"measureType\": \"oil-px-lake-px\",\n",
    "                \"value\": 0.0\n",
    "            },\n",
    "            {\n",
    "                \"measureType\": \"occurrence-oil-spill-event\",\n",
    "                \"value\": 0.0\n",
    "            },\n",
    "            {\n",
    "                \"measureType\": \"circular-mean-orientation-oil-spill-segments\",\n",
    "                \"value\": 0.0\n",
    "            },\n",
    "            {\n",
    "                \"measureType\": \"circular-standard-deviation-orientation-oil-spill-segments\",\n",
    "                \"value\": 0.0\n",
    "            },\n",
    "            {\n",
    "                \"measureType\": \"mean-area-oil-spill-segments\",\n",
    "                \"value\": 0.0\n",
    "            },\n",
    "            {\n",
    "                \"measureType\": \"med-area-oil-spill-segments\",\n",
    "                \"value\": 0.0\n",
    "            },\n",
    "            {\n",
    "                \"measureType\": \"std-area-oil-spill-segments\",\n",
    "                \"value\": 0.0\n",
    "            },\n",
    "            {\n",
    "                \"measureType\": \"mean-eccentricity-oil-spill-segments\",\n",
    "                \"value\": 0.0\n",
    "            },\n",
    "            {\n",
    "                \"measureType\": \"med-eccentricity-oil-spill-segments\",\n",
    "                \"value\": 0.0\n",
    "            },\n",
    "            {\n",
    "                \"measureType\": \"std-eccentricity-oil-spill-segments\",\n",
    "                \"value\": 0.0\n",
    "            },\n",
    "            {\n",
    "                \"measureType\": \"number-oil-spill-segments\",\n",
    "                \"value\": 0.0\n",
    "            }\n",
    "        ],\n",
    "        \"producedDate\": \"2018-10-27T18:18:47.360Z\",\n",
    "        \"crs\": \"EPSG:4326\"\n",
    "    }\n",
    "]"
   ]
  },
  {
   "cell_type": "code",
   "execution_count": 32,
   "id": "7de9e37f-2ad7-4813-ad31-1e18231d2f52",
   "metadata": {},
   "outputs": [],
   "source": [
    "wqems_oil = {'originalProducts': {'dataProvider': 'ONDADIAS',\n",
    "                                  'searchBbox': eodag['properties']['eodag_search_intersection'],\n",
    "                                  'productList': [eodag_new],\n",
    "                                  's2AtmCorAlgorithm': 'ACOLITE'},\n",
    "             'modelInfo': {'modelAssessmentMetrics': {'overallAccuracy': 0,\n",
    "                                                      'recall': 0,\n",
    "                                                      'precision': 0,\n",
    "                                                      'f1-score': 0,\n",
    "                                                      'IoU': 0,\n",
    "                                                      'FPR': 0},\n",
    "                           'abstract': 'Hydrocarbon formation mapping service is based on multilayer perceptron-based deep neural network model which is\\\n",
    "applied on one Sentinel-2 image in a pixel-wise sense.',\n",
    "                           'modelName': 'example_0_multidnn_1day'},\n",
    "             'contactEmail': 'example@iti.gr',\n",
    "             'productFormat': 'geotiff',\n",
    "             'productName': 'extremeevent-oilspill_polyphytos_20181027_SENT2_m10',\n",
    "             'pixelSize': [10, 10],\n",
    "             'license': 'example_CC BY-NC-SA 4.0',\n",
    "             'producedDate': '2022-06-01T18:11:10.000Z',\n",
    "             'provider': 'wqems/certh/mklab',\n",
    "             'timeliness': 'example_NRT-3h',\n",
    "             'contentInformation': [{'layerName': 'band1',\n",
    "                                    'layerCategorization': 'categorical',\n",
    "                                    'valuesExplanation': ['1:oil', '0:no_oil'],\n",
    "                                    'dataType': 'uint8',\n",
    "                                    'noData': 255}],\n",
    "             'alertStatus': {'status': 'yes/no/undefined',\n",
    "                             'thresholdValue': 0,\n",
    "                             'thresholdParameter': 'oil-px-lake-px'},\n",
    "             'serviceName': 'extremeevent-oilspill',\n",
    "             'pilot': 'Greece',\n",
    "             'localId': 'polyphytos',\n",
    "             'location': {\n",
    "                 'type': 'Polygon',\n",
    "                 'coordinates': [\n",
    "                     [\n",
    "                         [21.819352, 40.107504],\n",
    "                         [22.103094, 40.107504],\n",
    "                         [22.103094, 40.301976],\n",
    "                         [21.819352, 40.301976],\n",
    "                         [21.819352, 40.107504]\n",
    "                     ]\n",
    "                 ]\n",
    "             },\n",
    "             'processedBbox': {'type': 'Polygon',\n",
    "                               'coordinates': [\n",
    "                                   [\n",
    "                                       [21.819352, 40.107504],\n",
    "                                       [22.103094, 40.107504],\n",
    "                                       [22.103094, 40.301976],\n",
    "                                       [21.819352, 40.301976],\n",
    "                                       [21.819352, 40.107504]\n",
    "                                   ]\n",
    "                               ]\n",
    "                              },\n",
    "             'crs': 'EPSG:4326',\n",
    "             'statistics': stats_oil[0]['parameters']\n",
    "            }"
   ]
  },
  {
   "cell_type": "code",
   "execution_count": 33,
   "id": "c8b295e2-9dc3-4d25-8d2e-2dc1d1899927",
   "metadata": {},
   "outputs": [],
   "source": [
    "with open('/home/data/metadata samples/wqems_oilspill.json', 'w', encoding='UTF-8') as json_f:\n",
    "    json.dump(wqems_oil, json_f, indent=4)"
   ]
  },
  {
   "cell_type": "markdown",
   "id": "8914291a-c805-4684-b548-7bf58422686d",
   "metadata": {},
   "source": [
    "#### MUDDY WATER"
   ]
  },
  {
   "cell_type": "code",
   "execution_count": 34,
   "id": "56bbd02d-3085-40f4-b3cc-eb9609edc560",
   "metadata": {},
   "outputs": [],
   "source": [
    "with open(base_path/'eodag_product_test_S2.geojson', mode='r', encoding='utf-8') as f:\n",
    "    eodag = json.load(f)"
   ]
  },
  {
   "cell_type": "code",
   "execution_count": 35,
   "id": "c781491a-dfbc-412a-b05f-0ef9672de2c3",
   "metadata": {},
   "outputs": [
    {
     "data": {
      "text/plain": [
       "{'geometry': {'type': 'MultiPolygon',\n",
       "  'coordinates': [[[[11.663504207768549, 45.034190140253024],\n",
       "     [11.710544147597721, 46.02142174250963],\n",
       "     [10.2925320358333, 46.046265456303395],\n",
       "     [10.270075671777485, 45.05819732058294],\n",
       "     [11.663504207768549, 45.034190140253024]]]]},\n",
       " 'id': 'S2B_MSIL1C_20201219T101329_N0209_R022_T32TPR_20201219T110853',\n",
       " 'properties': {'platform': 'Sentinel-2',\n",
       "  'processingLevel': 'LEVEL-1C',\n",
       "  'productType': 'S2MSI1C',\n",
       "  'uid': '0cc47398-f49f-4e7c-ab32-9be2d3bf04ab',\n",
       "  'cloudCover': 33.5558,\n",
       "  'orbitDirection': 'DESCENDING',\n",
       "  'creationDate': '2020-12-19T13:34:40.668Z',\n",
       "  'downloadLink': 'https://catalogue.onda-dias.eu/dias-catalogue/Products(0cc47398-f49f-4e7c-ab32-9be2d3bf04ab)/$value',\n",
       "  'relativeOrbitNumber': '22'}}"
      ]
     },
     "execution_count": 35,
     "metadata": {},
     "output_type": "execute_result"
    }
   ],
   "source": [
    "eodag.pop('type')\n",
    "# Define keys that you want to keep\n",
    "eodag_keys = ['geometry', 'id', 'properties']\n",
    "eodag_prop_keys = ['eodag_search_intersection', 'platform', 'processingLevel', 'productType', 'uid', 'cloudCover',\n",
    "                   'orbitDirection', 'creationDate', 'downloadLink', 'relativeOrbitNumber']\n",
    "\n",
    "eodag_new = {key:eodag.get(key, 'NotApplicable') for key in eodag_keys}\n",
    "eodag_new['properties'] = {}\n",
    "eodag_new['properties'] = {key:eodag['properties'].get(key, 'NotApplicable') for key in eodag_prop_keys}\n",
    "eodag_new['properties'].pop('eodag_search_intersection')\n",
    "eodag_new"
   ]
  },
  {
   "cell_type": "code",
   "execution_count": 36,
   "id": "4efaae01-5abd-4a47-a957-c3bb86f7cd1e",
   "metadata": {},
   "outputs": [],
   "source": [
    "stats_muddy = [\n",
    "    {\n",
    "        \"localId\": \"giaretta\",\n",
    "        \"bbox\": [\n",
    "            [\n",
    "                [11.672138, 45.621148],\n",
    "                [11.672138, 45.692411],\n",
    "                [11.747696, 45.692411],\n",
    "                [11.747696, 45.621148],\n",
    "                [11.672138, 45.621148]\n",
    "            ]\n",
    "        ],\n",
    "        \"dataFileName\": \"extremeevent-muddywater_polyphytos_20181027_SENT2_m10.tiff\",\n",
    "        \"metadataFileName\": \"extremeevent-muddywater_polyphytos_20181027_SENT2_m10.xml\",\n",
    "        \"satellite\": \"SENT2\",\n",
    "        \"serviceName\": \"extremeevent-muddywater\",\n",
    "        \"startDate\": \"2018-10-27\",\n",
    "        \"endDate\": None,\n",
    "        \"pixelSize\": [10, 10],\n",
    "        \"parameters\": [\n",
    "            {\n",
    "                \"measureType\": \"muddy-water-px-lake-px\",\n",
    "                \"value\": 0.0\n",
    "            },\n",
    "            {\n",
    "                \"measureType\": \"occurrence-muddy-water-event\",\n",
    "                \"value\": 0.0\n",
    "            },\n",
    "            {\n",
    "                \"measureType\": \"mean-area-muddy-water-segments\",\n",
    "                \"value\": 0.0\n",
    "            },\n",
    "            {\n",
    "                \"measureType\": \"med-area-muddy-water-segments\",\n",
    "                \"value\": 0.0\n",
    "            },\n",
    "            {\n",
    "                \"measureType\": \"std-area-muddy-water-segments\",\n",
    "                \"value\": 0.0\n",
    "            },\n",
    "            {\n",
    "                \"measureType\": \"number-muddy-water-segments\",\n",
    "                \"value\": 0.0\n",
    "            }\n",
    "        ],\n",
    "        \"producedDate\": \"2018-10-27T18:18:47.360Z\",\n",
    "        \"crs\": \"EPSG:4326\"\n",
    "    }\n",
    "]"
   ]
  },
  {
   "cell_type": "code",
   "execution_count": 37,
   "id": "b7ff9ac3-7411-4550-ac87-4f8522c5d91a",
   "metadata": {},
   "outputs": [],
   "source": [
    "wqems_muddy = {'originalProducts': {'dataProvider': 'ONDADIAS',\n",
    "                                    'searchBbox': eodag['properties']['eodag_search_intersection'],\n",
    "                                    'productList': [eodag_new],\n",
    "                                    's2AtmCorAlgorithm': 'ACOLITE'},\n",
    "             'modelInfo': {'modelAssessmentMetrics': {'overallAccuracy': 0,\n",
    "                                                      'recall': 0,\n",
    "                                                      'precision': 0,\n",
    "                                                      'f1-score': 0,\n",
    "                                                      'IoU': 0,\n",
    "                                                      'FPR': 0},\n",
    "                           'abstract': 'Muddy water mapping service is based on a deep neural network model which is\\\n",
    "applied on one Sentinel-2 image in a pixel-wise sense.',\n",
    "                           'modelName': 'example_0_multidnn_1day_muddy'},\n",
    "             'contactEmail': 'example@iti.gr',\n",
    "             'productFormat': 'geotiff',\n",
    "             'productName': 'extremeevent-muddywater_polyphytos_20181027_SENT2_m10',\n",
    "             'pixelSize': [10, 10],\n",
    "             'license': 'example_CC BY-NC-SA 4.0',\n",
    "             'producedDate': '2022-06-01T18:11:10.000Z',\n",
    "             'provider': 'wqems/certh/mklab',\n",
    "             'timeliness': 'example_NRT-3h',\n",
    "             'contentInformation': [{'layerName': 'band1',\n",
    "                                    'layerCategorization': 'categorical',\n",
    "                                    'valuesExplanation': ['1:muddywater', '0:no_muddywater'],\n",
    "                                    'dataType': 'uint8',\n",
    "                                    'noData': 255}],\n",
    "             'alertStatus': {'status': 'yes/no/undefined',\n",
    "                             'thresholdValue': 0,\n",
    "                             'thresholdParameter': 'muddy-water-px-lake-px'},\n",
    "             'serviceName': 'extremeevent-muddywater',\n",
    "             'pilot': 'Italy',\n",
    "             'localId': 'giaretta',\n",
    "             'location': {\n",
    "                 'type': 'Polygon',\n",
    "                 'coordinates': [\n",
    "                     [\n",
    "                         [11.672138, 45.621148],\n",
    "                         [11.672138, 45.692411],\n",
    "                         [11.747696, 45.692411],\n",
    "                         [11.747696, 45.621148],\n",
    "                         [11.672138, 45.621148]\n",
    "                     ]\n",
    "                 ]\n",
    "             },\n",
    "             'processedBbox': {'type': 'Polygon',\n",
    "                               'coordinates': [\n",
    "                                   [\n",
    "                                       [11.672138, 45.621148],\n",
    "                                       [11.672138, 45.692411],\n",
    "                                       [11.747696, 45.692411],\n",
    "                                       [11.747696, 45.621148],\n",
    "                                       [11.672138, 45.621148]\n",
    "                                   ]\n",
    "                               ]\n",
    "                              },\n",
    "             'crs': 'EPSG:4326',\n",
    "             'statistics': stats_muddy[0]['parameters']\n",
    "            }"
   ]
  },
  {
   "cell_type": "code",
   "execution_count": 38,
   "id": "9d15fc00-d3e1-42a0-a48e-5c4d459af0b0",
   "metadata": {},
   "outputs": [],
   "source": [
    "with open('/home/data/metadata samples/wqems_muddywater.json', 'w', encoding='UTF-8') as json_f:\n",
    "    json.dump(wqems_muddy, json_f, indent=4)"
   ]
  },
  {
   "cell_type": "code",
   "execution_count": 20,
   "id": "e500c83d-eee3-401e-b9b6-45fd82d3e010",
   "metadata": {},
   "outputs": [],
   "source": [
    "import numpy as np"
   ]
  },
  {
   "cell_type": "code",
   "execution_count": 21,
   "id": "245e2f9e-711d-414d-8fa5-19509c65a861",
   "metadata": {},
   "outputs": [
    {
     "data": {
      "text/plain": [
       "array([1, 2, 3])"
      ]
     },
     "execution_count": 21,
     "metadata": {},
     "output_type": "execute_result"
    }
   ],
   "source": [
    "a = np.asarray([1,2,3])\n",
    "a"
   ]
  },
  {
   "cell_type": "code",
   "execution_count": 34,
   "id": "092fac6e-9463-4d9d-9781-718cd04cdade",
   "metadata": {},
   "outputs": [
    {
     "data": {
      "text/plain": [
       "'int64'"
      ]
     },
     "execution_count": 34,
     "metadata": {},
     "output_type": "execute_result"
    }
   ],
   "source": [
    "a.dtype.name"
   ]
  }
 ],
 "metadata": {
  "kernelspec": {
   "display_name": "Python 3 (ipykernel)",
   "language": "python",
   "name": "python3"
  },
  "language_info": {
   "codemirror_mode": {
    "name": "ipython",
    "version": 3
   },
   "file_extension": ".py",
   "mimetype": "text/x-python",
   "name": "python",
   "nbconvert_exporter": "python",
   "pygments_lexer": "ipython3",
   "version": "3.9.12"
  }
 },
 "nbformat": 4,
 "nbformat_minor": 5
}
