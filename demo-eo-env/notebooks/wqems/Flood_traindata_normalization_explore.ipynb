{
 "cells": [
  {
   "cell_type": "code",
   "execution_count": 11,
   "id": "45fa3573-bef5-4344-bea9-45f939f609ed",
   "metadata": {},
   "outputs": [],
   "source": [
    "import numpy as np\n",
    "import matplotlib.pyplot as plt"
   ]
  },
  {
   "cell_type": "code",
   "execution_count": 12,
   "id": "68f41529-42e0-4f14-abee-db24bbc8f6d2",
   "metadata": {},
   "outputs": [],
   "source": [
    "data_path = '/home/data/mydata/data.npy'\n",
    "label_path = '/home/data/mydata/labels.npy'\n",
    "\n",
    "data = np.load(data_path)\n",
    "labels = np.load(label_path)"
   ]
  },
  {
   "cell_type": "code",
   "execution_count": 13,
   "id": "6180612e-3c6d-4f1b-b75f-ebe199403599",
   "metadata": {},
   "outputs": [
    {
     "data": {
      "text/plain": [
       "(66760, 19, 2)"
      ]
     },
     "execution_count": 13,
     "metadata": {},
     "output_type": "execute_result"
    }
   ],
   "source": [
    "# kick out last two days\n",
    "data = data[:, :-2, :]\n",
    "data.shape"
   ]
  },
  {
   "cell_type": "markdown",
   "id": "f4bb709d-b46f-4133-b9cd-37ebbf577e9f",
   "metadata": {},
   "source": [
    "### Statistics of Train dataset\n",
    "The point here is to check mean and standard deviation of dataset when computed e.g. across all samples (timesteps & features) or across one sample (timesteps & features)\n",
    "#### Across all samples, timesteps, channels"
   ]
  },
  {
   "cell_type": "markdown",
   "id": "41a718c1-fe64-45ff-84ae-f9e7134a2463",
   "metadata": {},
   "source": [
    "##### With zeros"
   ]
  },
  {
   "cell_type": "code",
   "execution_count": 14,
   "id": "db3c0664-6012-41f2-9751-6ab7c37f00bd",
   "metadata": {},
   "outputs": [
    {
     "data": {
      "text/plain": [
       "(-13.869112, -14.142743, 5.8981166)"
      ]
     },
     "execution_count": 14,
     "metadata": {},
     "output_type": "execute_result"
    }
   ],
   "source": [
    "data.ravel().mean(), np.median(data.ravel()), data.ravel().std()"
   ]
  },
  {
   "cell_type": "markdown",
   "id": "8944cf86-973a-4109-97e4-c2332d937652",
   "metadata": {},
   "source": [
    "##### Without zeros"
   ]
  },
  {
   "cell_type": "code",
   "execution_count": 15,
   "id": "a6f5d152-4bac-4d3e-9ccd-99e620eecc13",
   "metadata": {},
   "outputs": [
    {
     "data": {
      "text/plain": [
       "(2536880,)"
      ]
     },
     "execution_count": 15,
     "metadata": {},
     "output_type": "execute_result"
    }
   ],
   "source": [
    "# exclude zeros\n",
    "zero_mask = data.ravel() != 0\n",
    "zero_mask.shape"
   ]
  },
  {
   "cell_type": "code",
   "execution_count": 16,
   "id": "687cded3-0902-41f0-aea0-95ef5667e263",
   "metadata": {},
   "outputs": [
    {
     "data": {
      "text/plain": [
       "(-13.869112, -14.142743, 5.8981166)"
      ]
     },
     "execution_count": 16,
     "metadata": {},
     "output_type": "execute_result"
    }
   ],
   "source": [
    "data.ravel()[zero_mask].mean(), np.median(data.ravel()[zero_mask]), data.ravel()[zero_mask].std()"
   ]
  },
  {
   "cell_type": "markdown",
   "id": "329e6f67-216a-42c4-a134-6cd540e4f75c",
   "metadata": {},
   "source": [
    "##### Without zeros (method 2)"
   ]
  },
  {
   "cell_type": "code",
   "execution_count": 17,
   "id": "9d46b9af-cf4b-4a35-9b1a-250e4bae7898",
   "metadata": {},
   "outputs": [
    {
     "data": {
      "text/plain": [
       "(66760, 1, 2)"
      ]
     },
     "execution_count": 17,
     "metadata": {},
     "output_type": "execute_result"
    }
   ],
   "source": [
    "# create mask for time series that have only zeros (bad data)\n",
    "zero_mask = np.all(data!=0, axis=1)\n",
    "zero_mask = np.expand_dims(zero_mask, axis=1)\n",
    "zero_mask.shape"
   ]
  },
  {
   "cell_type": "code",
   "execution_count": 18,
   "id": "6625c51b-502e-42d8-ae7e-514228bd63ad",
   "metadata": {},
   "outputs": [
    {
     "data": {
      "text/plain": [
       "(66760, 19, 2)"
      ]
     },
     "execution_count": 18,
     "metadata": {},
     "output_type": "execute_result"
    }
   ],
   "source": [
    "zero_mask = [zero_mask for i in range(data.shape[1])]\n",
    "zero_mask = np.concatenate(tuple(zero_mask), axis=1)\n",
    "zero_mask.shape"
   ]
  },
  {
   "cell_type": "code",
   "execution_count": 19,
   "id": "4eb7e8cc-858f-4236-a636-3dbd640df14b",
   "metadata": {},
   "outputs": [
    {
     "data": {
      "text/plain": [
       "(-13.869112, -14.142743, 5.8981166)"
      ]
     },
     "execution_count": 19,
     "metadata": {},
     "output_type": "execute_result"
    }
   ],
   "source": [
    "data[zero_mask].mean(), np.median(data[zero_mask]), data[zero_mask].std()"
   ]
  },
  {
   "cell_type": "markdown",
   "id": "67b412f3-7686-4c3d-b99c-62df02bf7eb3",
   "metadata": {},
   "source": [
    "#### Per-sample across timesteps and channels"
   ]
  },
  {
   "cell_type": "markdown",
   "id": "0cef85b0-847d-484b-990d-bbd174ac4a6a",
   "metadata": {},
   "source": [
    "##### With zeros"
   ]
  },
  {
   "cell_type": "code",
   "execution_count": 8,
   "id": "7b9591a4-310e-4966-9870-cf3550072b00",
   "metadata": {},
   "outputs": [],
   "source": [
    "sample_mean = data.mean(axis=(1, 2))\n",
    "sample_median = np.median(data, axis=(1, 2))\n",
    "sample_std = data.std(axis=(1, 2))"
   ]
  },
  {
   "cell_type": "code",
   "execution_count": 9,
   "id": "53727c62-0487-4953-be2d-152437685aa2",
   "metadata": {},
   "outputs": [
    {
     "data": {
      "text/plain": [
       "(-13.869108, -14.493886, 4.5364313)"
      ]
     },
     "execution_count": 9,
     "metadata": {},
     "output_type": "execute_result"
    },
    {
     "data": {
      "image/png": "[encoded data removed]",
      "text/plain": [
       "<Figure size 1296x360 with 2 Axes>"
      ]
     },
     "metadata": {
      "needs_background": "light"
     },
     "output_type": "display_data"
    }
   ],
   "source": [
    "fig, ax = plt.subplots(figsize=(18, 5), ncols=2, nrows=1);\n",
    "ax[0].hist(sample_mean, bins=100);\n",
    "ax[0].set_title(label='Histogram of means per sample', fontsize=15)\n",
    "\n",
    "ax[1].hist(sample_std, bins=100);\n",
    "ax[1].set_title('Histogram of stds per sample', fontsize=15)\n",
    "\n",
    "sample_mean.mean(), sample_median.mean(), sample_std.mean()"
   ]
  },
  {
   "cell_type": "markdown",
   "id": "8784eeaa-072f-4119-814d-c1fa61cd4924",
   "metadata": {},
   "source": [
    "##### Without zeros"
   ]
  },
  {
   "cell_type": "code",
   "execution_count": 10,
   "id": "18f0aa7d-e194-400c-8564-538809ff99d4",
   "metadata": {},
   "outputs": [],
   "source": [
    "mean_zero_mask = data.mean(axis=(1, 2)) != 0\n",
    "std_zero_mask = data.std(axis=(1, 2)) != 0"
   ]
  },
  {
   "cell_type": "code",
   "execution_count": 11,
   "id": "f068d395-ecb9-4b2a-9c63-a7149ddd4221",
   "metadata": {},
   "outputs": [],
   "source": [
    "sample_mean = data.mean(axis=(1, 2))[mean_zero_mask]\n",
    "sample_median = np.median(data, axis=(1, 2))\n",
    "sample_std = data.std(axis=(1, 2))[std_zero_mask]"
   ]
  },
  {
   "cell_type": "code",
   "execution_count": 12,
   "id": "8eeb2afe-5bcf-4a4a-a6c3-2d1a3997f872",
   "metadata": {},
   "outputs": [
    {
     "data": {
      "text/plain": [
       "(-13.869108, -14.493886, 4.5364313)"
      ]
     },
     "execution_count": 12,
     "metadata": {},
     "output_type": "execute_result"
    },
    {
     "data": {
      "image/png": "[encoded data removed]",
      "text/plain": [
       "<Figure size 1296x360 with 2 Axes>"
      ]
     },
     "metadata": {
      "needs_background": "light"
     },
     "output_type": "display_data"
    }
   ],
   "source": [
    "fig, ax = plt.subplots(figsize=(18, 5), ncols=2, nrows=1);\n",
    "ax[0].hist(sample_mean, bins=100);\n",
    "ax[0].set_title(label='Histogram of means per sample', fontsize=15)\n",
    "\n",
    "ax[1].hist(sample_std, bins=100);\n",
    "ax[1].set_title('Histogram of stds per sample', fontsize=15)\n",
    "\n",
    "sample_mean.mean(), sample_median.mean(), sample_std.mean()"
   ]
  },
  {
   "cell_type": "code",
   "execution_count": null,
   "id": "a3ff1819-4af5-49f4-9568-487066260140",
   "metadata": {},
   "outputs": [],
   "source": []
  },
  {
   "cell_type": "code",
   "execution_count": 34,
   "id": "cc93de25-52f2-46f0-ac6a-70902c95236f",
   "metadata": {},
   "outputs": [
    {
     "data": {
      "text/plain": [
       "(21, 32707)"
      ]
     },
     "execution_count": 34,
     "metadata": {},
     "output_type": "execute_result"
    }
   ],
   "source": [
    "data[labels==1, :, 0].T.shape"
   ]
  },
  {
   "cell_type": "code",
   "execution_count": 45,
   "id": "7497dee3-09f7-4502-b1b1-81469eb565e2",
   "metadata": {},
   "outputs": [],
   "source": [
    "def get_mean_confidence(data, conf_upper, conf_lower):\n",
    "    \"\"\"\n",
    "    Args:\n",
    "        data (numpy.array): dimensions should be (time, length)\n",
    "    \n",
    "    Returns:\n",
    "        mean, upper, lower (tuple): returns a tuple of numpy.array objects\n",
    "    \"\"\"\n",
    "    return np.median(data, axis=1), np.mean(data, axis=1), np.percentile(data, conf_upper, axis=1), np.percentile(data, conf_lower, axis=1)"
   ]
  },
  {
   "cell_type": "code",
   "execution_count": 58,
   "id": "7fb38d83-3c6c-45a3-b29a-d3dd2afae0a3",
   "metadata": {},
   "outputs": [],
   "source": [
    "vv_median, vv_mean, vv_upper, vv_lower = get_mean_confidence(data[labels==1, :, 1].T, 100, 0)\n",
    "# vh_mean, vh_upper, vh_lower = get_mean_confidence(data[labels==1,...], 95, 5)"
   ]
  },
  {
   "cell_type": "code",
   "execution_count": 59,
   "id": "c5674254-9701-42b6-8655-dc109e09c159",
   "metadata": {},
   "outputs": [
    {
     "data": {
      "image/png": "[encoded data removed]",
      "text/plain": [
       "<Figure size 1080x432 with 1 Axes>"
      ]
     },
     "metadata": {
      "needs_background": "light"
     },
     "output_type": "display_data"
    }
   ],
   "source": [
    "# plot time series\n",
    "fig, ax = plt.subplots(figsize=(15, 6))\n",
    "\n",
    "# flood\n",
    "p1 = ax.plot_date(np.arange(21), vv_median, '-bo'); # plot mean\n",
    "p2 = ax.fill_between(np.arange(21), vv_upper, vv_lower, alpha=0.1, color='b'); # plot confidence intervals\n",
    "# no flood\n",
    "# ax.plot_date(eop_image.timestamp[:-2], vh_mean, '-ro', xdate=True, ydate=False);\n",
    "# ax.fill_between(eop_image.timestamp[:-2], vh_upper, vh_lower, alpha=0.1, color='r');\n",
    "\n",
    "# ax.legend(['Flood average', 'No Flood average', 'Flood std', 'No Flood std'], loc='upper left')\n",
    "# ax.tick_params('x', rotation=45)\n",
    "# ax.set_ylabel(r'VV $\\sigma_0$ [dB]', fontsize=15)\n",
    "# ax.set_title('Time Series of annotated data', fontsize=23)\n",
    "# ax.grid();\n",
    "# ax.xaxis.set_major_formatter(mdates.DateFormatter('%d %b %Y'))"
   ]
  },
  {
   "cell_type": "code",
   "execution_count": 32,
   "id": "f56e4a0e-1a52-4d86-ae9f-33a5bcc9bef0",
   "metadata": {},
   "outputs": [
    {
     "data": {
      "text/plain": [
       "(32707,)"
      ]
     },
     "execution_count": 32,
     "metadata": {},
     "output_type": "execute_result"
    }
   ],
   "source": [
    "vv_mean.shape"
   ]
  }
 ],
 "metadata": {
  "kernelspec": {
   "display_name": "Python 3 (ipykernel)",
   "language": "python",
   "name": "python3"
  },
  "language_info": {
   "codemirror_mode": {
    "name": "ipython",
    "version": 3
   },
   "file_extension": ".py",
   "mimetype": "text/x-python",
   "name": "python",
   "nbconvert_exporter": "python",
   "pygments_lexer": "ipython3",
   "version": "3.9.12"
  }
 },
 "nbformat": 4,
 "nbformat_minor": 5
}
