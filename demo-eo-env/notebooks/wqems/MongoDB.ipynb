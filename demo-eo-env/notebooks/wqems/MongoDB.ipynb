{
 "cells": [
  {
   "cell_type": "code",
   "execution_count": 1,
   "id": "20b06bdd-a3f3-4bc7-9559-14c63b7df89d",
   "metadata": {},
   "outputs": [],
   "source": [
    "import pymongo\n",
    "\n",
    "import datetime\n",
    "import os"
   ]
  },
  {
   "cell_type": "code",
   "execution_count": 2,
   "id": "0e930bda-e952-44ec-950f-c946f3905fae",
   "metadata": {},
   "outputs": [
    {
     "data": {
      "text/plain": [
       "('root', 'example')"
      ]
     },
     "execution_count": 2,
     "metadata": {},
     "output_type": "execute_result"
    }
   ],
   "source": [
    "user = os.environ['MONGO_INITDB_ROOT_USERNAME']\n",
    "password = os.environ['MONGO_INITDB_ROOT_PASSWORD']\n",
    "user, password"
   ]
  },
  {
   "cell_type": "code",
   "execution_count": 3,
   "id": "5f692384-1628-4c71-b9c5-53c82b3d1280",
   "metadata": {},
   "outputs": [],
   "source": [
    "myclient = pymongo.MongoClient(host=\"eo_mongodb\", port=27017, username=user, password=password)\n",
    "# myclient = pymongo.MongoClient('mongodb://root:example@eo_mongodb:27017/')"
   ]
  },
  {
   "cell_type": "code",
   "execution_count": 4,
   "id": "d0f73ed8-0ba7-4fad-96f0-3439c6da7412",
   "metadata": {},
   "outputs": [
    {
     "data": {
      "text/plain": [
       "['admin', 'config', 'eo_test', 'local']"
      ]
     },
     "execution_count": 4,
     "metadata": {},
     "output_type": "execute_result"
    }
   ],
   "source": [
    "myclient.list_database_names()"
   ]
  },
  {
   "cell_type": "code",
   "execution_count": 7,
   "id": "b6609087-70fb-4178-885f-3d7c372aba44",
   "metadata": {},
   "outputs": [],
   "source": [
    "mydb = myclient[\"eo_test\"]\n",
    "mycol = mydb[\"sentinel-2\"]"
   ]
  },
  {
   "cell_type": "code",
   "execution_count": 5,
   "id": "cdd56e60-3259-453e-be1c-2c3712135946",
   "metadata": {},
   "outputs": [
    {
     "data": {
      "text/plain": [
       "[{'_id': 0, 'startDate': datetime.datetime(2022, 6, 8, 12, 0), 'path': 59},\n",
       " {'_id': 1, 'startDate': datetime.datetime(2022, 6, 9, 12, 0), 'path': 59},\n",
       " {'_id': 2, 'startDate': datetime.datetime(2022, 6, 10, 12, 0), 'path': 59},\n",
       " {'_id': 3, 'startDate': datetime.datetime(2022, 6, 11, 12, 0), 'path': 59},\n",
       " {'_id': 4, 'startDate': datetime.datetime(2022, 6, 12, 12, 0), 'path': 59},\n",
       " {'_id': 5, 'startDate': datetime.datetime(2022, 6, 13, 12, 0), 'path': 59},\n",
       " {'_id': 6, 'startDate': datetime.datetime(2022, 6, 14, 12, 0), 'path': 59},\n",
       " {'_id': 7, 'startDate': datetime.datetime(2022, 6, 15, 12, 0), 'path': 59},\n",
       " {'_id': 8, 'startDate': datetime.datetime(2022, 6, 16, 12, 0), 'path': 59},\n",
       " {'_id': 9, 'startDate': datetime.datetime(2022, 6, 17, 12, 0), 'path': 59},\n",
       " {'_id': 10, 'startDate': datetime.datetime(2022, 6, 18, 12, 0), 'path': 59},\n",
       " {'_id': 11, 'startDate': datetime.datetime(2022, 6, 19, 12, 0), 'path': 59},\n",
       " {'_id': 12, 'startDate': datetime.datetime(2022, 6, 20, 12, 0), 'path': 59},\n",
       " {'_id': 13, 'startDate': datetime.datetime(2022, 6, 21, 12, 0), 'path': 59},\n",
       " {'_id': 14, 'startDate': datetime.datetime(2022, 6, 22, 12, 0), 'path': 59},\n",
       " {'_id': 15, 'startDate': datetime.datetime(2022, 6, 23, 12, 0), 'path': 59},\n",
       " {'_id': 16, 'startDate': datetime.datetime(2022, 6, 24, 12, 0), 'path': 59},\n",
       " {'_id': 17, 'startDate': datetime.datetime(2022, 6, 25, 12, 0), 'path': 59},\n",
       " {'_id': 18, 'startDate': datetime.datetime(2022, 6, 26, 12, 0), 'path': 59},\n",
       " {'_id': 19, 'startDate': datetime.datetime(2022, 6, 27, 12, 0), 'path': 59},\n",
       " {'_id': 20, 'startDate': datetime.datetime(2022, 6, 28, 12, 0), 'path': 59},\n",
       " {'_id': 21, 'startDate': datetime.datetime(2022, 6, 29, 12, 0), 'path': 59},\n",
       " {'_id': 22, 'startDate': datetime.datetime(2022, 6, 30, 12, 0), 'path': 59},\n",
       " {'_id': 23, 'startDate': datetime.datetime(2022, 7, 1, 12, 0), 'path': 59},\n",
       " {'_id': 24, 'startDate': datetime.datetime(2022, 7, 2, 12, 0), 'path': 59},\n",
       " {'_id': 25, 'startDate': datetime.datetime(2022, 7, 3, 12, 0), 'path': 59},\n",
       " {'_id': 26, 'startDate': datetime.datetime(2022, 7, 4, 12, 0), 'path': 59},\n",
       " {'_id': 27, 'startDate': datetime.datetime(2022, 7, 5, 12, 0), 'path': 59},\n",
       " {'_id': 28, 'startDate': datetime.datetime(2022, 7, 6, 12, 0), 'path': 59},\n",
       " {'_id': 29, 'startDate': datetime.datetime(2022, 7, 7, 12, 0), 'path': 59},\n",
       " {'_id': 30, 'startDate': datetime.datetime(2022, 7, 8, 12, 0), 'path': 59},\n",
       " {'_id': 31, 'startDate': datetime.datetime(2022, 7, 9, 12, 0), 'path': 59},\n",
       " {'_id': 32, 'startDate': datetime.datetime(2022, 7, 10, 12, 0), 'path': 59},\n",
       " {'_id': 33, 'startDate': datetime.datetime(2022, 7, 11, 12, 0), 'path': 59},\n",
       " {'_id': 34, 'startDate': datetime.datetime(2022, 7, 12, 12, 0), 'path': 59},\n",
       " {'_id': 35, 'startDate': datetime.datetime(2022, 7, 13, 12, 0), 'path': 59},\n",
       " {'_id': 36, 'startDate': datetime.datetime(2022, 7, 14, 12, 0), 'path': 59},\n",
       " {'_id': 37, 'startDate': datetime.datetime(2022, 7, 15, 12, 0), 'path': 59},\n",
       " {'_id': 38, 'startDate': datetime.datetime(2022, 7, 16, 12, 0), 'path': 59},\n",
       " {'_id': 39, 'startDate': datetime.datetime(2022, 7, 17, 12, 0), 'path': 59},\n",
       " {'_id': 40, 'startDate': datetime.datetime(2022, 7, 18, 12, 0), 'path': 59},\n",
       " {'_id': 41, 'startDate': datetime.datetime(2022, 7, 19, 12, 0), 'path': 59},\n",
       " {'_id': 42, 'startDate': datetime.datetime(2022, 7, 20, 12, 0), 'path': 59},\n",
       " {'_id': 43, 'startDate': datetime.datetime(2022, 7, 21, 12, 0), 'path': 59},\n",
       " {'_id': 44, 'startDate': datetime.datetime(2022, 7, 22, 12, 0), 'path': 59},\n",
       " {'_id': 45, 'startDate': datetime.datetime(2022, 7, 23, 12, 0), 'path': 59},\n",
       " {'_id': 46, 'startDate': datetime.datetime(2022, 7, 24, 12, 0), 'path': 59},\n",
       " {'_id': 47, 'startDate': datetime.datetime(2022, 7, 25, 12, 0), 'path': 59},\n",
       " {'_id': 48, 'startDate': datetime.datetime(2022, 7, 26, 12, 0), 'path': 59},\n",
       " {'_id': 49, 'startDate': datetime.datetime(2022, 7, 27, 12, 0), 'path': 59},\n",
       " {'_id': 50, 'startDate': datetime.datetime(2022, 7, 28, 12, 0), 'path': 59},\n",
       " {'_id': 51, 'startDate': datetime.datetime(2022, 7, 29, 12, 0), 'path': 59},\n",
       " {'_id': 52, 'startDate': datetime.datetime(2022, 7, 30, 12, 0), 'path': 59},\n",
       " {'_id': 53, 'startDate': datetime.datetime(2022, 7, 31, 12, 0), 'path': 59},\n",
       " {'_id': 54, 'startDate': datetime.datetime(2022, 8, 1, 12, 0), 'path': 59},\n",
       " {'_id': 55, 'startDate': datetime.datetime(2022, 8, 2, 12, 0), 'path': 59},\n",
       " {'_id': 56, 'startDate': datetime.datetime(2022, 8, 3, 12, 0), 'path': 59},\n",
       " {'_id': 57, 'startDate': datetime.datetime(2022, 8, 4, 12, 0), 'path': 59},\n",
       " {'_id': 58, 'startDate': datetime.datetime(2022, 8, 5, 12, 0), 'path': 59},\n",
       " {'_id': 59, 'startDate': datetime.datetime(2022, 8, 6, 12, 0), 'path': 59},\n",
       " {'_id': 60, 'startDate': datetime.datetime(2022, 8, 7, 12, 0), 'path': 59},\n",
       " {'_id': 61, 'startDate': datetime.datetime(2022, 8, 8, 12, 0), 'path': 59},\n",
       " {'_id': 62, 'startDate': datetime.datetime(2022, 8, 9, 12, 0), 'path': 59},\n",
       " {'_id': 63, 'startDate': datetime.datetime(2022, 8, 10, 12, 0), 'path': 59},\n",
       " {'_id': 64, 'startDate': datetime.datetime(2022, 8, 11, 12, 0), 'path': 59},\n",
       " {'_id': 65, 'startDate': datetime.datetime(2022, 8, 12, 12, 0), 'path': 59},\n",
       " {'_id': 66, 'startDate': datetime.datetime(2022, 8, 13, 12, 0), 'path': 59},\n",
       " {'_id': 67, 'startDate': datetime.datetime(2022, 8, 14, 12, 0), 'path': 59},\n",
       " {'_id': 68, 'startDate': datetime.datetime(2022, 8, 15, 12, 0), 'path': 59},\n",
       " {'_id': 69, 'startDate': datetime.datetime(2022, 8, 16, 12, 0), 'path': 59},\n",
       " {'_id': 70, 'startDate': datetime.datetime(2022, 8, 17, 12, 0), 'path': 59},\n",
       " {'_id': 71, 'startDate': datetime.datetime(2022, 8, 18, 12, 0), 'path': 59},\n",
       " {'_id': 72, 'startDate': datetime.datetime(2022, 8, 19, 12, 0), 'path': 59},\n",
       " {'_id': 73, 'startDate': datetime.datetime(2022, 8, 20, 12, 0), 'path': 59},\n",
       " {'_id': 74, 'startDate': datetime.datetime(2022, 8, 21, 12, 0), 'path': 59},\n",
       " {'_id': 75, 'startDate': datetime.datetime(2022, 8, 22, 12, 0), 'path': 59},\n",
       " {'_id': 76, 'startDate': datetime.datetime(2022, 8, 23, 12, 0), 'path': 59},\n",
       " {'_id': 77, 'startDate': datetime.datetime(2022, 8, 24, 12, 0), 'path': 59},\n",
       " {'_id': 78, 'startDate': datetime.datetime(2022, 8, 25, 12, 0), 'path': 59},\n",
       " {'_id': 79, 'startDate': datetime.datetime(2022, 8, 26, 12, 0), 'path': 59},\n",
       " {'_id': 80, 'startDate': datetime.datetime(2022, 8, 27, 12, 0), 'path': 59},\n",
       " {'_id': 81, 'startDate': datetime.datetime(2022, 8, 28, 12, 0), 'path': 59},\n",
       " {'_id': 82, 'startDate': datetime.datetime(2022, 8, 29, 12, 0), 'path': 59},\n",
       " {'_id': 83, 'startDate': datetime.datetime(2022, 8, 30, 12, 0), 'path': 59},\n",
       " {'_id': 84, 'startDate': datetime.datetime(2022, 8, 31, 12, 0), 'path': 59},\n",
       " {'_id': 85, 'startDate': datetime.datetime(2022, 9, 1, 12, 0), 'path': 59},\n",
       " {'_id': 86, 'startDate': datetime.datetime(2022, 9, 2, 12, 0), 'path': 59},\n",
       " {'_id': 87, 'startDate': datetime.datetime(2022, 9, 3, 12, 0), 'path': 59},\n",
       " {'_id': 88, 'startDate': datetime.datetime(2022, 9, 4, 12, 0), 'path': 59},\n",
       " {'_id': 89, 'startDate': datetime.datetime(2022, 9, 5, 12, 0), 'path': 59},\n",
       " {'_id': 90, 'startDate': datetime.datetime(2022, 9, 6, 12, 0), 'path': 59},\n",
       " {'_id': 91, 'startDate': datetime.datetime(2022, 9, 7, 12, 0), 'path': 59},\n",
       " {'_id': 92, 'startDate': datetime.datetime(2022, 9, 8, 12, 0), 'path': 59},\n",
       " {'_id': 93, 'startDate': datetime.datetime(2022, 9, 9, 12, 0), 'path': 59},\n",
       " {'_id': 94, 'startDate': datetime.datetime(2022, 9, 10, 12, 0), 'path': 59},\n",
       " {'_id': 95, 'startDate': datetime.datetime(2022, 9, 11, 12, 0), 'path': 59},\n",
       " {'_id': 96, 'startDate': datetime.datetime(2022, 9, 12, 12, 0), 'path': 59},\n",
       " {'_id': 97, 'startDate': datetime.datetime(2022, 9, 13, 12, 0), 'path': 59},\n",
       " {'_id': 98, 'startDate': datetime.datetime(2022, 9, 14, 12, 0), 'path': 59},\n",
       " {'_id': 99, 'startDate': datetime.datetime(2022, 9, 15, 12, 0), 'path': 59}]"
      ]
     },
     "execution_count": 5,
     "metadata": {},
     "output_type": "execute_result"
    }
   ],
   "source": [
    "today  = datetime.datetime.now()\n",
    "mylist = [{\"_id\": item, \"startDate\": (today+datetime.timedelta(item)).replace(microsecond=0), \"path\" : 59} for item in range(100)]\n",
    "mylist"
   ]
  },
  {
   "cell_type": "code",
   "execution_count": 6,
   "id": "e1942979-71cb-478f-b93a-4b5a81e88eac",
   "metadata": {},
   "outputs": [],
   "source": [
    "for i in range(0, 40, 2):\n",
    "    mylist[i]['path'] = 100"
   ]
  },
  {
   "cell_type": "code",
   "execution_count": 7,
   "id": "4d6d2d5d-3cc1-46f4-83a5-aafe81571845",
   "metadata": {},
   "outputs": [],
   "source": [
    "# mycol.drop()"
   ]
  },
  {
   "cell_type": "code",
   "execution_count": 8,
   "id": "a4fb9ac5-609f-4819-8983-3ac08f3b68b3",
   "metadata": {},
   "outputs": [],
   "source": [
    "x = mycol.insert_many(mylist)"
   ]
  },
  {
   "cell_type": "code",
   "execution_count": 9,
   "id": "d853fe61-9fad-428e-95d8-b098eb6bdc8e",
   "metadata": {},
   "outputs": [
    {
     "name": "stdout",
     "output_type": "stream",
     "text": [
      "{'_id': 0, 'startDate': datetime.datetime(2022, 6, 8, 12, 0), 'path': 100}\n",
      "{'_id': 1, 'startDate': datetime.datetime(2022, 6, 9, 12, 0), 'path': 59}\n",
      "{'_id': 2, 'startDate': datetime.datetime(2022, 6, 10, 12, 0), 'path': 100}\n",
      "{'_id': 3, 'startDate': datetime.datetime(2022, 6, 11, 12, 0), 'path': 59}\n",
      "{'_id': 4, 'startDate': datetime.datetime(2022, 6, 12, 12, 0), 'path': 100}\n",
      "{'_id': 5, 'startDate': datetime.datetime(2022, 6, 13, 12, 0), 'path': 59}\n",
      "{'_id': 6, 'startDate': datetime.datetime(2022, 6, 14, 12, 0), 'path': 100}\n",
      "{'_id': 7, 'startDate': datetime.datetime(2022, 6, 15, 12, 0), 'path': 59}\n",
      "{'_id': 8, 'startDate': datetime.datetime(2022, 6, 16, 12, 0), 'path': 100}\n",
      "{'_id': 9, 'startDate': datetime.datetime(2022, 6, 17, 12, 0), 'path': 59}\n",
      "{'_id': 10, 'startDate': datetime.datetime(2022, 6, 18, 12, 0), 'path': 100}\n",
      "{'_id': 11, 'startDate': datetime.datetime(2022, 6, 19, 12, 0), 'path': 59}\n",
      "{'_id': 12, 'startDate': datetime.datetime(2022, 6, 20, 12, 0), 'path': 100}\n",
      "{'_id': 13, 'startDate': datetime.datetime(2022, 6, 21, 12, 0), 'path': 59}\n",
      "{'_id': 14, 'startDate': datetime.datetime(2022, 6, 22, 12, 0), 'path': 100}\n",
      "{'_id': 15, 'startDate': datetime.datetime(2022, 6, 23, 12, 0), 'path': 59}\n",
      "{'_id': 16, 'startDate': datetime.datetime(2022, 6, 24, 12, 0), 'path': 100}\n",
      "{'_id': 17, 'startDate': datetime.datetime(2022, 6, 25, 12, 0), 'path': 59}\n",
      "{'_id': 18, 'startDate': datetime.datetime(2022, 6, 26, 12, 0), 'path': 100}\n"
     ]
    }
   ],
   "source": [
    "result = mycol.find({},{\"_id\": 1, \"startDate\": 1, 'path': 1}).limit(19)\n",
    "for x in result:\n",
    "    print(x)"
   ]
  },
  {
   "cell_type": "code",
   "execution_count": 10,
   "id": "7a1805f5-f789-40b2-8359-5ad6471fe95a",
   "metadata": {},
   "outputs": [],
   "source": [
    "# Advanced Query\n",
    "from_date = datetime.datetime.strptime('2022-6-8', '%Y-%m-%d')\n",
    "to_date = datetime.datetime.strptime('2022-7-30', '%Y-%m-%d')\n",
    "criteria = {\n",
    "    \"$and\": [{\"startDate\": {\"$gte\": from_date, \"$lte\": to_date}}], \"path\": {\"$eq\" : 59}\n",
    "}"
   ]
  },
  {
   "cell_type": "code",
   "execution_count": 11,
   "id": "5c5b46c2-ca21-4b7a-addb-bfa2500f79e6",
   "metadata": {},
   "outputs": [
    {
     "name": "stdout",
     "output_type": "stream",
     "text": [
      "{'_id': 1, 'startDate': datetime.datetime(2022, 6, 9, 12, 0), 'path': 59}\n",
      "{'_id': 3, 'startDate': datetime.datetime(2022, 6, 11, 12, 0), 'path': 59}\n",
      "{'_id': 5, 'startDate': datetime.datetime(2022, 6, 13, 12, 0), 'path': 59}\n",
      "{'_id': 7, 'startDate': datetime.datetime(2022, 6, 15, 12, 0), 'path': 59}\n",
      "{'_id': 9, 'startDate': datetime.datetime(2022, 6, 17, 12, 0), 'path': 59}\n",
      "{'_id': 11, 'startDate': datetime.datetime(2022, 6, 19, 12, 0), 'path': 59}\n",
      "{'_id': 13, 'startDate': datetime.datetime(2022, 6, 21, 12, 0), 'path': 59}\n",
      "{'_id': 15, 'startDate': datetime.datetime(2022, 6, 23, 12, 0), 'path': 59}\n",
      "{'_id': 17, 'startDate': datetime.datetime(2022, 6, 25, 12, 0), 'path': 59}\n",
      "{'_id': 19, 'startDate': datetime.datetime(2022, 6, 27, 12, 0), 'path': 59}\n",
      "{'_id': 21, 'startDate': datetime.datetime(2022, 6, 29, 12, 0), 'path': 59}\n",
      "{'_id': 23, 'startDate': datetime.datetime(2022, 7, 1, 12, 0), 'path': 59}\n",
      "{'_id': 25, 'startDate': datetime.datetime(2022, 7, 3, 12, 0), 'path': 59}\n",
      "{'_id': 27, 'startDate': datetime.datetime(2022, 7, 5, 12, 0), 'path': 59}\n",
      "{'_id': 29, 'startDate': datetime.datetime(2022, 7, 7, 12, 0), 'path': 59}\n",
      "{'_id': 31, 'startDate': datetime.datetime(2022, 7, 9, 12, 0), 'path': 59}\n",
      "{'_id': 33, 'startDate': datetime.datetime(2022, 7, 11, 12, 0), 'path': 59}\n",
      "{'_id': 35, 'startDate': datetime.datetime(2022, 7, 13, 12, 0), 'path': 59}\n",
      "{'_id': 37, 'startDate': datetime.datetime(2022, 7, 15, 12, 0), 'path': 59}\n"
     ]
    }
   ],
   "source": [
    "# mydoc = mycol.find(criteria).sort(\"_id\", -1)\n",
    "mydoc = mycol.find(criteria).limit(19)\n",
    "for x in mydoc:\n",
    "    print(x)"
   ]
  },
  {
   "cell_type": "code",
   "execution_count": 5,
   "id": "78477bc1-f811-466e-b79d-8e803086d911",
   "metadata": {},
   "outputs": [
    {
     "name": "stdout",
     "output_type": "stream",
     "text": [
      "['admin', 'config', 'eo_test', 'local']\n"
     ]
    }
   ],
   "source": [
    "print(myclient.list_database_names())"
   ]
  },
  {
   "cell_type": "code",
   "execution_count": 8,
   "id": "673ba129-c85b-4348-a14d-e918e56c7fe5",
   "metadata": {},
   "outputs": [
    {
     "name": "stdout",
     "output_type": "stream",
     "text": [
      "['sentinel-2', 'sentinel-1']\n"
     ]
    }
   ],
   "source": [
    "print(mydb.list_collection_names())"
   ]
  },
  {
   "cell_type": "code",
   "execution_count": 14,
   "id": "a057ba8f-4211-4be7-b10b-68302a26c75a",
   "metadata": {},
   "outputs": [
    {
     "name": "stdout",
     "output_type": "stream",
     "text": [
      "The database exists.\n"
     ]
    }
   ],
   "source": [
    "dblist = myclient.list_database_names()\n",
    "if \"eo_test\" in dblist:\n",
    "    print(\"The database exists.\")"
   ]
  },
  {
   "cell_type": "code",
   "execution_count": 9,
   "id": "97913f8d-8a01-42f8-bd05-2691df7ee38a",
   "metadata": {},
   "outputs": [],
   "source": [
    "myclient.close()"
   ]
  },
  {
   "cell_type": "code",
   "execution_count": null,
   "id": "cfc0608e-2952-4b77-a13f-2cb280006fc4",
   "metadata": {},
   "outputs": [],
   "source": []
  }
 ],
 "metadata": {
  "kernelspec": {
   "display_name": "Python 3 (ipykernel)",
   "language": "python",
   "name": "python3"
  },
  "language_info": {
   "codemirror_mode": {
    "name": "ipython",
    "version": 3
   },
   "file_extension": ".py",
   "mimetype": "text/x-python",
   "name": "python",
   "nbconvert_exporter": "python",
   "pygments_lexer": "ipython3",
   "version": "3.9.12"
  }
 },
 "nbformat": 4,
 "nbformat_minor": 5
}
