{
 "cells": [
  {
   "cell_type": "code",
   "execution_count": 1,
   "id": "45fa3573-bef5-4344-bea9-45f939f609ed",
   "metadata": {},
   "outputs": [],
   "source": [
    "import numpy as np\n",
    "import matplotlib.pyplot as plt"
   ]
  },
  {
   "cell_type": "code",
   "execution_count": 2,
   "id": "68f41529-42e0-4f14-abee-db24bbc8f6d2",
   "metadata": {},
   "outputs": [],
   "source": [
    "data_path = '/home/data/data.npy'\n",
    "label_path = '/home/data/labels.npy'\n",
    "\n",
    "data = np.load(data_path)\n",
    "labels = np.load(label_path)"
   ]
  },
  {
   "cell_type": "code",
   "execution_count": 3,
   "id": "97d03c44-3ac0-4f8f-9131-d39e2d836010",
   "metadata": {},
   "outputs": [
    {
     "data": {
      "text/plain": [
       "array([0, 1])"
      ]
     },
     "execution_count": 3,
     "metadata": {},
     "output_type": "execute_result"
    }
   ],
   "source": [
    "np.unique(labels)"
   ]
  },
  {
   "cell_type": "code",
   "execution_count": 4,
   "id": "6180612e-3c6d-4f1b-b75f-ebe199403599",
   "metadata": {},
   "outputs": [
    {
     "data": {
      "text/plain": [
       "(66760, 21, 2)"
      ]
     },
     "execution_count": 4,
     "metadata": {},
     "output_type": "execute_result"
    }
   ],
   "source": [
    "data.shape"
   ]
  },
  {
   "cell_type": "code",
   "execution_count": 5,
   "id": "93368ff7-0b50-459a-bcd0-96c60d3b68ff",
   "metadata": {},
   "outputs": [],
   "source": [
    "vv_array = data[:, :, 0].ravel()\n",
    "vh_array = data[:, :, 1].ravel()"
   ]
  },
  {
   "cell_type": "code",
   "execution_count": 6,
   "id": "24357561-8e8c-472a-bdd6-e56dee7cd831",
   "metadata": {},
   "outputs": [
    {
     "data": {
      "image/png": "[encoded data removed]",
      "text/plain": [
       "<Figure size 432x288 with 1 Axes>"
      ]
     },
     "metadata": {
      "needs_background": "light"
     },
     "output_type": "display_data"
    }
   ],
   "source": [
    "plt.hist(vv_array, bins=100);"
   ]
  },
  {
   "cell_type": "code",
   "execution_count": 22,
   "id": "2db3f4e7-bc25-431b-b9ae-203b90adfdbb",
   "metadata": {},
   "outputs": [
    {
     "data": {
      "image/png": "[encoded data removed]",
      "text/plain": [
       "<Figure size 432x288 with 1 Axes>"
      ]
     },
     "metadata": {
      "needs_background": "light"
     },
     "output_type": "display_data"
    }
   ],
   "source": [
    "plt.hist(vh_array, bins=100);"
   ]
  },
  {
   "cell_type": "code",
   "execution_count": 38,
   "id": "a1c84ac1-7a85-4281-94f5-e35e991c09cb",
   "metadata": {},
   "outputs": [],
   "source": [
    "vv_array_inv = 10**(vv_array/10)\n",
    "vh_array_inv = 10**(vh_array/10)"
   ]
  },
  {
   "cell_type": "code",
   "execution_count": 41,
   "id": "c3dd5389-e30f-4c96-84c0-9db8dc8e2e06",
   "metadata": {},
   "outputs": [
    {
     "data": {
      "image/png": "[encoded data removed]",
      "text/plain": [
       "<Figure size 432x288 with 1 Axes>"
      ]
     },
     "metadata": {
      "needs_background": "light"
     },
     "output_type": "display_data"
    }
   ],
   "source": [
    "plt.hist(vv_array_inv, bins=100);\n",
    "plt.xlim([])"
   ]
  },
  {
   "cell_type": "code",
   "execution_count": 42,
   "id": "df15b9eb-04f5-4e7d-bee0-526a676ddb68",
   "metadata": {},
   "outputs": [
    {
     "data": {
      "text/plain": [
       "(0.20757239, 0.0010607257, 221.60747)"
      ]
     },
     "execution_count": 42,
     "metadata": {},
     "output_type": "execute_result"
    }
   ],
   "source": [
    "np.mean(vv_array_inv), np.min(vv_array_inv), np.max(vv_array_inv)"
   ]
  },
  {
   "cell_type": "code",
   "execution_count": 43,
   "id": "6ec2fe66-1d47-42c3-811d-a32718f6c8c3",
   "metadata": {},
   "outputs": [
    {
     "data": {
      "text/plain": [
       "(0.025234245, 0.0008538221, 3.7317924)"
      ]
     },
     "execution_count": 43,
     "metadata": {},
     "output_type": "execute_result"
    }
   ],
   "source": [
    "np.mean(vh_array_inv), np.min(vh_array_inv), np.max(vh_array_inv)"
   ]
  },
  {
   "cell_type": "code",
   "execution_count": 44,
   "id": "ca843c4b-2c6e-4597-8499-75ad259d39a2",
   "metadata": {},
   "outputs": [
    {
     "data": {
      "text/plain": [
       "-10.238984"
      ]
     },
     "execution_count": 44,
     "metadata": {},
     "output_type": "execute_result"
    }
   ],
   "source": [
    "np.mean(vv_array)"
   ]
  },
  {
   "cell_type": "code",
   "execution_count": 45,
   "id": "6ab07359-fd56-45fc-aae0-52c922b654d0",
   "metadata": {},
   "outputs": [
    {
     "data": {
      "image/png": "[encoded data removed]",
      "text/plain": [
       "<Figure size 432x288 with 1 Axes>"
      ]
     },
     "metadata": {
      "needs_background": "light"
     },
     "output_type": "display_data"
    }
   ],
   "source": [
    "plt.hist(vh_array_inv, bins=100);"
   ]
  },
  {
   "cell_type": "code",
   "execution_count": null,
   "id": "540ce481-fb7c-4a5c-ab14-2f3d90ce1ed7",
   "metadata": {},
   "outputs": [],
   "source": []
  },
  {
   "cell_type": "code",
   "execution_count": 8,
   "id": "272a2ebb-ad17-481e-b746-1e746f36f214",
   "metadata": {},
   "outputs": [
    {
     "data": {
      "text/plain": [
       "((66760, 21, 2), (66760,))"
      ]
     },
     "execution_count": 8,
     "metadata": {},
     "output_type": "execute_result"
    }
   ],
   "source": [
    "data.shape, labels.shape"
   ]
  },
  {
   "cell_type": "code",
   "execution_count": 34,
   "id": "cc93de25-52f2-46f0-ac6a-70902c95236f",
   "metadata": {},
   "outputs": [
    {
     "data": {
      "text/plain": [
       "(21, 32707)"
      ]
     },
     "execution_count": 34,
     "metadata": {},
     "output_type": "execute_result"
    }
   ],
   "source": [
    "data[labels==1, :, 0].T.shape"
   ]
  },
  {
   "cell_type": "code",
   "execution_count": 45,
   "id": "7497dee3-09f7-4502-b1b1-81469eb565e2",
   "metadata": {},
   "outputs": [],
   "source": [
    "def get_mean_confidence(data, conf_upper, conf_lower):\n",
    "    \"\"\"\n",
    "    Args:\n",
    "        data (numpy.array): dimensions should be (time, length)\n",
    "    \n",
    "    Returns:\n",
    "        mean, upper, lower (tuple): returns a tuple of numpy.array objects\n",
    "    \"\"\"\n",
    "    return np.median(data, axis=1), np.mean(data, axis=1), np.percentile(data, conf_upper, axis=1), np.percentile(data, conf_lower, axis=1)"
   ]
  },
  {
   "cell_type": "code",
   "execution_count": 58,
   "id": "7fb38d83-3c6c-45a3-b29a-d3dd2afae0a3",
   "metadata": {},
   "outputs": [],
   "source": [
    "vv_median, vv_mean, vv_upper, vv_lower = get_mean_confidence(data[labels==1, :, 1].T, 100, 0)\n",
    "# vh_mean, vh_upper, vh_lower = get_mean_confidence(data[labels==1,...], 95, 5)"
   ]
  },
  {
   "cell_type": "code",
   "execution_count": 59,
   "id": "c5674254-9701-42b6-8655-dc109e09c159",
   "metadata": {},
   "outputs": [
    {
     "data": {
      "image/png": "[encoded data removed]",
      "text/plain": [
       "<Figure size 1080x432 with 1 Axes>"
      ]
     },
     "metadata": {
      "needs_background": "light"
     },
     "output_type": "display_data"
    }
   ],
   "source": [
    "# plot time series\n",
    "fig, ax = plt.subplots(figsize=(15, 6))\n",
    "\n",
    "# flood\n",
    "p1 = ax.plot_date(np.arange(21), vv_median, '-bo'); # plot mean\n",
    "p2 = ax.fill_between(np.arange(21), vv_upper, vv_lower, alpha=0.1, color='b'); # plot confidence intervals\n",
    "# no flood\n",
    "# ax.plot_date(eop_image.timestamp[:-2], vh_mean, '-ro', xdate=True, ydate=False);\n",
    "# ax.fill_between(eop_image.timestamp[:-2], vh_upper, vh_lower, alpha=0.1, color='r');\n",
    "\n",
    "# ax.legend(['Flood average', 'No Flood average', 'Flood std', 'No Flood std'], loc='upper left')\n",
    "# ax.tick_params('x', rotation=45)\n",
    "# ax.set_ylabel(r'VV $\\sigma_0$ [dB]', fontsize=15)\n",
    "# ax.set_title('Time Series of annotated data', fontsize=23)\n",
    "# ax.grid();\n",
    "# ax.xaxis.set_major_formatter(mdates.DateFormatter('%d %b %Y'))"
   ]
  },
  {
   "cell_type": "code",
   "execution_count": 32,
   "id": "f56e4a0e-1a52-4d86-ae9f-33a5bcc9bef0",
   "metadata": {},
   "outputs": [
    {
     "data": {
      "text/plain": [
       "(32707,)"
      ]
     },
     "execution_count": 32,
     "metadata": {},
     "output_type": "execute_result"
    }
   ],
   "source": [
    "vv_mean.shape"
   ]
  }
 ],
 "metadata": {
  "kernelspec": {
   "display_name": "Python 3 (ipykernel)",
   "language": "python",
   "name": "python3"
  },
  "language_info": {
   "codemirror_mode": {
    "name": "ipython",
    "version": 3
   },
   "file_extension": ".py",
   "mimetype": "text/x-python",
   "name": "python",
   "nbconvert_exporter": "python",
   "pygments_lexer": "ipython3",
   "version": "3.9.12"
  }
 },
 "nbformat": 4,
 "nbformat_minor": 5
}
