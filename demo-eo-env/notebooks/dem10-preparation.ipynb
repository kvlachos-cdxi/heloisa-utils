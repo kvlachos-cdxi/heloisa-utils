{
 "cells": [
  {
   "cell_type": "code",
   "execution_count": 1,
   "id": "ffffe8c1-3b70-4e87-b3ab-1d0629a7b2a3",
   "metadata": {},
   "outputs": [],
   "source": [
    "from osgeo import gdal"
   ]
  },
  {
   "cell_type": "code",
   "execution_count": 2,
   "id": "d26a6424-c4ce-4802-89de-bcfdf0bdfe0e",
   "metadata": {},
   "outputs": [
    {
     "name": "stdout",
     "output_type": "stream",
     "text": [
      "3.11.0dev-b51894d2b5c27a9f9a3b4494937ed5c2c26c384d\n"
     ]
    }
   ],
   "source": [
    "print(gdal.__version__)"
   ]
  },
  {
   "cell_type": "code",
   "execution_count": 4,
   "id": "dec7c9cf-514f-4914-9cdf-05b7f1107d81",
   "metadata": {},
   "outputs": [
    {
     "name": "stdout",
     "output_type": "stream",
     "text": [
      "GDAL opened the file successfully.\n",
      "Raster Size: 9001 x 9001\n"
     ]
    }
   ],
   "source": [
    "raster_path = \"/home/data/EEA10_N38_E022.tif\"\n",
    "\n",
    "dataset = gdal.Open(raster_path)\n",
    "\n",
    "if dataset:\n",
    "    print(\"GDAL opened the file successfully.\")\n",
    "    print(f\"Raster Size: {dataset.RasterXSize} x {dataset.RasterYSize}\")\n",
    "else:\n",
    "    print(\"Failed to open the file.\")\n"
   ]
  },
  {
   "cell_type": "code",
   "execution_count": null,
   "id": "c884fd71-2b9c-460c-a546-a059f8e0db59",
   "metadata": {},
   "outputs": [],
   "source": []
  },
  {
   "cell_type": "code",
   "execution_count": 6,
   "id": "5ed25f72-a765-42ec-825f-ba3d61a98ab9",
   "metadata": {},
   "outputs": [],
   "source": [
    "import os\n",
    "from glob import glob\n",
    "import rasterio\n",
    "import numpy as np\n",
    "# import dask.array as da\n",
    "# from rasterio.enums import Resampling\n",
    "# from rasterio.io import MemoryFile\n",
    "from rasterio.merge import merge\n",
    "\n",
    "\n",
    "from rasterio import mask"
   ]
  },
  {
   "cell_type": "code",
   "execution_count": 7,
   "id": "8800e563-460c-4fbf-881e-035e9268d68f",
   "metadata": {},
   "outputs": [],
   "source": [
    "# Path to the directory containing the GeoTIFF files\n",
    "input_dir = '/home/data/'\n",
    "output_dir = '/home/data/masks/'\n",
    "output_mosaic_path = '/home/data/mosaic/'"
   ]
  },
  {
   "cell_type": "code",
   "execution_count": 8,
   "id": "06baddc0-449f-43b6-994b-07229fa55f56",
   "metadata": {},
   "outputs": [],
   "source": [
    "# Get list of all DEM files (GeoTIFF patches)\n",
    "dem_files = glob(os.path.join(input_dir, '*.tif'))"
   ]
  },
  {
   "cell_type": "code",
   "execution_count": 9,
   "id": "c1bc62b9-c95f-4ab4-ae4c-637d37c56d76",
   "metadata": {},
   "outputs": [],
   "source": [
    "# Create output directory if not exists\n",
    "os.makedirs(output_dir, exist_ok=True)\n",
    "os.makedirs(output_mosaic_path, exist_ok=True)"
   ]
  },
  {
   "cell_type": "code",
   "execution_count": 10,
   "id": "7cbf14c8-eaaf-4e68-a21d-f425d9d54dd5",
   "metadata": {},
   "outputs": [
    {
     "name": "stdout",
     "output_type": "stream",
     "text": [
      "Processing complete. Binary patches and mosaic saved.\n"
     ]
    }
   ],
   "source": [
    "# Function to process each DEM patch and create a binary mask\n",
    "def process_patch(dem_file):\n",
    "    with rasterio.open(dem_file) as src:\n",
    "        # Read the DEM data into a numpy array\n",
    "        dem_array = src.read(1)\n",
    "        \n",
    "        # Create binary mask: 1 for values < 0, else 0\n",
    "        binary_mask = np.where(dem_array <= 0, 1, 0)\n",
    "        \n",
    "        # Define metadata for the binary mask\n",
    "        meta = src.meta\n",
    "        meta.update(dtype=rasterio.uint8, count=1)\n",
    "        \n",
    "        # Output path for the binary mask\n",
    "        output_path = os.path.join(output_dir, os.path.basename(dem_file))\n",
    "        \n",
    "        # Write the binary mask as a new GeoTIFF\n",
    "        with rasterio.open(output_path, 'w', **meta) as dst:\n",
    "            dst.write(binary_mask, 1)\n",
    "        \n",
    "        return output_path, binary_mask, meta\n",
    "\n",
    "# Function to create a mosaic of all binary masks\n",
    "def create_mosaic(dem_files):\n",
    "    # List to hold the opened sources\n",
    "    src_files_to_mosaic = []\n",
    "    \n",
    "    for dem_file in dem_files:\n",
    "        src = rasterio.open(dem_file)\n",
    "        # Read the binary mask data into a numpy array\n",
    "        # mask_array = src.read(1)\n",
    "        # Append source for merging (this keeps the metadata and transform)\n",
    "        src_files_to_mosaic.append(src)\n",
    "    \n",
    "    # Use rasterio.merge to create the mosaic\n",
    "    # We need to extract both the data and the transform from each source\n",
    "    # data_to_merge = [src[1] for src in src_files_to_mosaic]\n",
    "    # transforms = [src[0].transform for src in src_files_to_mosaic]\n",
    "    \n",
    "    # Merge the patches together, with the transforms being adjusted to align\n",
    "    mosaic_array, mosaic_transform = merge(src_files_to_mosaic, resampling=rasterio.enums.Resampling.nearest)\n",
    "\n",
    "    # Update metadata to match the mosaic\n",
    "    mosaic_meta = src_files_to_mosaic[0].meta\n",
    "    mosaic_meta.update({\n",
    "        'driver': 'GTiff',\n",
    "        'count': 1,\n",
    "        'height': mosaic_array.shape[1],\n",
    "        'width': mosaic_array.shape[2],\n",
    "        'dtype': 'uint8',\n",
    "        'crs': src_files_to_mosaic[0].crs,  # Assuming all patches have the same CRS\n",
    "        'transform': mosaic_transform,  # Updated transform for the mosaic\n",
    "        'nodata': 1\n",
    "    })\n",
    "\n",
    "    return mosaic_array, mosaic_meta\n",
    "    \n",
    "# Process all individual patches and create binary masks\n",
    "binary_mask_paths = []\n",
    "for dem_file in dem_files:\n",
    "    binary_mask_path, _, _ = process_patch(dem_file)\n",
    "    binary_mask_paths.append(binary_mask_path)\n",
    "\n",
    "# Now create a mosaic of the binary masks\n",
    "mosaic_mask, mosaic_meta = create_mosaic(binary_mask_paths)\n",
    "    \n",
    "# Save the mosaic binary mask as a GeoTIFF\n",
    "with rasterio.open(os.path.join(output_mosaic_path, 'mosaic_binary_mask.tif'), 'w', **mosaic_meta) as dst:\n",
    "    dst.write(mosaic_mask.squeeze(), 1)\n",
    "\n",
    "print(\"Processing complete. Binary patches and mosaic saved.\")"
   ]
  },
  {
   "cell_type": "code",
   "execution_count": null,
   "id": "c13142d6-662e-40de-9929-7c2f7254ecd4",
   "metadata": {},
   "outputs": [],
   "source": []
  }
 ],
 "metadata": {
  "kernelspec": {
   "display_name": "Python 3 (ipykernel)",
   "language": "python",
   "name": "python3"
  },
  "language_info": {
   "codemirror_mode": {
    "name": "ipython",
    "version": 3
   },
   "file_extension": ".py",
   "mimetype": "text/x-python",
   "name": "python",
   "nbconvert_exporter": "python",
   "pygments_lexer": "ipython3",
   "version": "3.12.3"
  }
 },
 "nbformat": 4,
 "nbformat_minor": 5
}
