{
 "cells": [
  {
   "cell_type": "markdown",
   "id": "6de718d8-8371-49f6-8752-778e63c957e7",
   "metadata": {},
   "source": [
    "## Predict from SAFE"
   ]
  },
  {
   "cell_type": "code",
   "execution_count": 1,
   "id": "a7f5e7c5-7739-4b07-bda1-90ffbaac63d9",
   "metadata": {
    "tags": []
   },
   "outputs": [],
   "source": [
    "from pathlib import Path\n",
    "from omnicloudmask import predict_from_load_func, load_s2"
   ]
  },
  {
   "cell_type": "code",
   "execution_count": 2,
   "id": "b145db34-acfd-4281-9603-0c6e684f9352",
   "metadata": {
    "tags": []
   },
   "outputs": [
    {
     "data": {
      "application/vnd.jupyter.widget-view+json": {
       "model_id": "a68387ec06c8465d835670e9ed1f0944",
       "version_major": 2,
       "version_minor": 0
      },
      "text/plain": [
       "(…)nety_004.pycls_in1k_PT_state.safetensors:   0%|          | 0.00/72.3M [00:00<?, ?B/s]"
      ]
     },
     "metadata": {},
     "output_type": "display_data"
    },
    {
     "data": {
      "application/vnd.jupyter.widget-view+json": {
       "model_id": "150c6f18e823448886f5623ddfc5d0f3",
       "version_major": 2,
       "version_minor": 0
      },
      "text/plain": [
       "(…)next_small.usi_in1k_PT_state.safetensors:   0%|          | 0.00/37.2M [00:00<?, ?B/s]"
      ]
     },
     "metadata": {},
     "output_type": "display_data"
    },
    {
     "data": {
      "application/vnd.jupyter.widget-view+json": {
       "model_id": "458f52ed343d40f1b3073e5b6660b228",
       "version_major": 2,
       "version_minor": 0
      },
      "text/plain": [
       "Running inference using cpu float32:   0%|          | 0/1 [00:00<?, ?it/s]"
      ]
     },
     "metadata": {},
     "output_type": "display_data"
    }
   ],
   "source": [
    "# Paths to scenes (L1C and or L2A)\n",
    "scene_paths = [Path(\"/home/data/S2B_MSIL2A_20240414T090559_N0510_R050_T34SFG_20240414T104805.SAFE\")]\n",
    "\n",
    "# Predict masks for scenes\n",
    "pred_paths = predict_from_load_func(scene_paths, load_s2) # This saves the prediction as GeoTIFF automatically"
   ]
  },
  {
   "cell_type": "markdown",
   "id": "f530c211-5690-4616-84fd-cba22425180e",
   "metadata": {},
   "source": [
    "## Predict from arrays"
   ]
  },
  {
   "cell_type": "code",
   "execution_count": 1,
   "id": "79a863a5-dfab-432c-ace0-bf88a91e4012",
   "metadata": {
    "tags": []
   },
   "outputs": [],
   "source": [
    "from pathlib import Path\n",
    "import numpy as np\n",
    "import rasterio\n",
    "\n",
    "from omnicloudmask import predict_from_array "
   ]
  },
  {
   "cell_type": "code",
   "execution_count": 10,
   "id": "1a76405b-f111-4963-bb66-965cbf90e35d",
   "metadata": {
    "tags": []
   },
   "outputs": [],
   "source": [
    "def load_s2_rgbnir_10m(safe_path: str | Path) -> np.ndarray:\n",
    "    \"\"\"\n",
    "    Return a 3xH×W float32 array with Red, Green, NIR (B04, B03, B08) at 10 m\n",
    "    resolution from a Sentinel-2 .SAFE product.\n",
    "    \n",
    "    Parameters\n",
    "    ----------\n",
    "    safe_path : pathlib.Path\n",
    "        This is the path of the .SAFE directory.\n",
    "        \n",
    "    \n",
    "    Returns\n",
    "    -------\n",
    "    numpy.ndarray\n",
    "        A ``(3, H, W)`` float32 array containing, in order,\n",
    "        ``(Red, Green, NIR)`` reflectance at 10 m resolution.\n",
    "\n",
    "    Raises\n",
    "    ------\n",
    "    FileNotFoundError\n",
    "        If any of the required 10 m JP2 band files cannot be located inside\n",
    "        ``safe_path``.\n",
    "    \"\"\"\n",
    "\n",
    "    # Collect the three band files – works for L1C and L2A\n",
    "    band_files = {  # key → JP2 pattern\n",
    "        \"B04\": list(safe_path.glob(\"**/*B04_10m.jp2\")),\n",
    "        \"B03\": list(safe_path.glob(\"**/*B03_10m.jp2\")),\n",
    "        \"B08\": list(safe_path.glob(\"**/*B08_10m.jp2\")),\n",
    "    }\n",
    "\n",
    "    # Convert lists to single Path objects & sanity-check\n",
    "    bands = {}\n",
    "    for b, files in band_files.items():\n",
    "        if not files:\n",
    "            raise FileNotFoundError(f\"{b} not found in {safe_path}\")\n",
    "        bands[b] = files[0]\n",
    "\n",
    "    # Read, rescale and stack\n",
    "    arrays = []\n",
    "    for b in (\"B04\", \"B03\", \"B08\"): # R, G, NIR order\n",
    "        with rasterio.open(bands[b]) as src:\n",
    "            img = src.read(1).astype(\"float32\")\n",
    "            # L1C/L2A reflectances are stored as integers ×10 000\n",
    "            if img.max() > 1.0:  # quick test for unscaled data\n",
    "                img /= 10_000.0\n",
    "            arrays.append(img)\n",
    "\n",
    "    return np.stack(arrays, axis=-1).transpose(2, 0, 1) # H × W × 3\n",
    "\n",
    "def save_mask_as_geotiff(mask: np.ndarray,\n",
    "                         ref_band_path: str | Path,\n",
    "                         out_path: str | Path,\n",
    "                         nodata: int | None = 0):\n",
    "    \"\"\"\n",
    "    Save a (1, H, W) or (H, W) mask array as GeoTIFF, copying geotransform & CRS\n",
    "    from a reference Sentinel-2 band (e.g. B04_10m.jp2).\n",
    "\n",
    "    Parameters\n",
    "    ----------\n",
    "    mask : np.ndarray\n",
    "        Cloud/-shadow mask, either (1, H, W) or (H, W). dtype will be promoted\n",
    "        to uint8 on disk.\n",
    "    ref_band_path : str | Path\n",
    "        Path to any 10 m Sentinel-2 JP2 band in the same tile (B04, B03, B08…).\n",
    "    out_path : str | Path\n",
    "        Where to write the GeoTIFF (use .tif or .tiff).\n",
    "    nodata : int or None, optional\n",
    "        Value to mark NoData pixels. Set to None to omit the tag.\n",
    "    \"\"\"\n",
    "    mask = np.squeeze(mask)            # (H, W) if it was (1, H, W)\n",
    "\n",
    "    with rasterio.open(ref_band_path) as src:\n",
    "        meta = src.meta.copy()\n",
    "\n",
    "    meta.update(\n",
    "        driver=\"GTiff\",\n",
    "        count=1,\n",
    "        dtype=rasterio.uint8,\n",
    "        compress=\"lzw\",                # loss-less & widely supported\n",
    "        nodata=nodata if nodata is not None else None,\n",
    "    )\n",
    "\n",
    "    # write\n",
    "    with rasterio.open(out_path, \"w\", **meta) as dst:\n",
    "        dst.write(mask.astype(\"uint8\"), 1)  # band index = 1"
   ]
  },
  {
   "cell_type": "code",
   "execution_count": 5,
   "id": "14954a14-9beb-468b-b6bd-eb2c77b5e07e",
   "metadata": {
    "tags": []
   },
   "outputs": [],
   "source": [
    "# Run OmniCloudMask\n",
    "safe = Path(\"/home/data/S2B_MSIL2A_20240414T090559_N0510_R050_T34SFG_20240414T104805.SAFE\")\n",
    "input_array = load_s2_rgbnir_10m(safe) # shape (3, height, width)\n",
    "# predict\n",
    "pred_mask = predict_from_array(input_array)"
   ]
  },
  {
   "cell_type": "code",
   "execution_count": 9,
   "id": "5de237dd-eb89-4660-b05e-7e4e6f7466fa",
   "metadata": {
    "tags": []
   },
   "outputs": [
    {
     "data": {
      "text/plain": [
       "array([[[0, 0, 0, ..., 0, 0, 0],\n",
       "        [0, 0, 0, ..., 0, 0, 0],\n",
       "        [0, 0, 0, ..., 0, 0, 0],\n",
       "        ...,\n",
       "        [0, 0, 0, ..., 0, 0, 0],\n",
       "        [0, 0, 0, ..., 0, 0, 0],\n",
       "        [0, 0, 0, ..., 0, 0, 0]]], shape=(1, 10980, 10980), dtype=uint8)"
      ]
     },
     "execution_count": 9,
     "metadata": {},
     "output_type": "execute_result"
    }
   ],
   "source": [
    "pred_mask"
   ]
  },
  {
   "cell_type": "code",
   "execution_count": 12,
   "id": "f77716bb-3cbc-4dee-a1d5-3fabad9cd163",
   "metadata": {
    "tags": []
   },
   "outputs": [],
   "source": [
    "# Save as GeoTIFF\n",
    "ref_band = next(safe.glob(\"**/*B04_10m.jp2\"))  # or pick B08_10m.jp2, etc.\n",
    "\n",
    "save_mask_as_geotiff(\n",
    "    mask=pred_mask,\n",
    "    ref_band_path=ref_band,\n",
    "    out_path=\"/home/data/cloud_shadow_mask_10m.tif\",\n",
    ")"
   ]
  }
 ],
 "metadata": {
  "kernelspec": {
   "display_name": "Python 3 (ipykernel)",
   "language": "python",
   "name": "python3"
  },
  "language_info": {
   "codemirror_mode": {
    "name": "ipython",
    "version": 3
   },
   "file_extension": ".py",
   "mimetype": "text/x-python",
   "name": "python",
   "nbconvert_exporter": "python",
   "pygments_lexer": "ipython3",
   "version": "3.12.3"
  }
 },
 "nbformat": 4,
 "nbformat_minor": 5
}
